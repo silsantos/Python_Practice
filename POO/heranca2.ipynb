{
 "cells": [
  {
   "cell_type": "markdown",
   "id": "aa3d7e70-089c-4402-b488-a2cfffe69525",
   "metadata": {},
   "source": [
    "### Classes - Herança - Polimorfismo"
   ]
  },
  {
   "cell_type": "markdown",
   "id": "b5faf273-a011-4a52-ac27-2b8475e64cc0",
   "metadata": {},
   "source": [
    "#### Contrução da superclasse FormaGeometrica:"
   ]
  },
  {
   "cell_type": "code",
   "execution_count": 3,
   "id": "c1bc8c52-a3b6-4ff6-a7ee-4a7951391352",
   "metadata": {},
   "outputs": [],
   "source": [
    "class FormaGeo:\n",
    "    \n",
    "    def __init__(self, x, y):\n",
    "        self.x = x\n",
    "        self.y = y\n",
    "        self.nomeclasse = self.__class__.__name__\n",
    "        print(f'O objeto {self.nomeclasse} foi instanciado com sucesso')\n",
    "        \n",
    "        \n",
    "    def Desenhar(self):\n",
    "        print(f'O objeto {self.nomeclasse} está centrado em ({self.x},{self.y})')"
   ]
  },
  {
   "cell_type": "code",
   "execution_count": 4,
   "id": "53419948-b52d-4fce-9b4c-cf32a7612a66",
   "metadata": {},
   "outputs": [
    {
     "name": "stdout",
     "output_type": "stream",
     "text": [
      "O objeto FormaGeo foi instanciado com sucesso\n"
     ]
    }
   ],
   "source": [
    "# Testando a classe FormaGeo:\n",
    "\n",
    "forma_teste = FormaGeo(0,0)"
   ]
  },
  {
   "cell_type": "code",
   "execution_count": 5,
   "id": "0a45a19b-8438-42a6-8bbd-d7e568af66f7",
   "metadata": {},
   "outputs": [
    {
     "name": "stdout",
     "output_type": "stream",
     "text": [
      "O objeto FormaGeo e está centrado em (0,0)\n"
     ]
    }
   ],
   "source": [
    "forma_teste.Desenhar()"
   ]
  },
  {
   "cell_type": "markdown",
   "id": "0bea717f-7393-4238-b86a-d8af191d5d02",
   "metadata": {},
   "source": [
    "#### Contrução das classes filhas:"
   ]
  },
  {
   "cell_type": "code",
   "execution_count": null,
   "id": "9f3176d3-2255-454c-9a4d-01109dbc7726",
   "metadata": {},
   "outputs": [],
   "source": []
  }
 ],
 "metadata": {
  "kernelspec": {
   "display_name": "Python 3",
   "language": "python",
   "name": "python3"
  },
  "language_info": {
   "codemirror_mode": {
    "name": "ipython",
    "version": 3
   },
   "file_extension": ".py",
   "mimetype": "text/x-python",
   "name": "python",
   "nbconvert_exporter": "python",
   "pygments_lexer": "ipython3",
   "version": "3.8.8"
  }
 },
 "nbformat": 4,
 "nbformat_minor": 5
}
