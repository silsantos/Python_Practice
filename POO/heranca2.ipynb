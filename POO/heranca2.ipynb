{
 "cells": [
  {
   "cell_type": "markdown",
   "id": "aa3d7e70-089c-4402-b488-a2cfffe69525",
   "metadata": {},
   "source": [
    "### Classes - Herança - Polimorfismo"
   ]
  },
  {
   "cell_type": "markdown",
   "id": "b5faf273-a011-4a52-ac27-2b8475e64cc0",
   "metadata": {},
   "source": [
    "#### Contrução da superclasse FormaGeometrica:"
   ]
  },
  {
   "cell_type": "code",
   "execution_count": 13,
   "id": "289823ed-7f87-4134-b618-1e9af3be2199",
   "metadata": {},
   "outputs": [],
   "source": [
    "import math"
   ]
  },
  {
   "cell_type": "code",
   "execution_count": 12,
   "id": "c1bc8c52-a3b6-4ff6-a7ee-4a7951391352",
   "metadata": {},
   "outputs": [],
   "source": [
    "class FormaGeo:\n",
    "    \n",
    "    def __init__(self, x, y):\n",
    "        self.x = x\n",
    "        self.y = y\n",
    "        self.nomeclasse = self.__class__.__name__\n",
    "        print(f'O objeto {self.nomeclasse} foi instanciado com sucesso')\n",
    "        \n",
    "        \n",
    "    def Desenhar(self):\n",
    "        print(f'O objeto {self.nomeclasse} está centrado em ({self.x},{self.y})')"
   ]
  },
  {
   "cell_type": "code",
   "execution_count": 14,
   "id": "53419948-b52d-4fce-9b4c-cf32a7612a66",
   "metadata": {},
   "outputs": [
    {
     "name": "stdout",
     "output_type": "stream",
     "text": [
      "O objeto FormaGeo foi instanciado com sucesso\n"
     ]
    }
   ],
   "source": [
    "# Testando a classe FormaGeo:\n",
    "\n",
    "forma_teste = FormaGeo(0,0)"
   ]
  },
  {
   "cell_type": "code",
   "execution_count": 15,
   "id": "0a45a19b-8438-42a6-8bbd-d7e568af66f7",
   "metadata": {},
   "outputs": [
    {
     "name": "stdout",
     "output_type": "stream",
     "text": [
      "O objeto FormaGeo está centrado em (0,0)\n"
     ]
    }
   ],
   "source": [
    "forma_teste.Desenhar()"
   ]
  },
  {
   "cell_type": "markdown",
   "id": "0bea717f-7393-4238-b86a-d8af191d5d02",
   "metadata": {},
   "source": [
    "#### Contrução das classes filhas:"
   ]
  },
  {
   "cell_type": "code",
   "execution_count": 16,
   "id": "9f3176d3-2255-454c-9a4d-01109dbc7726",
   "metadata": {},
   "outputs": [],
   "source": [
    "class Forma2d(FormaGeo):\n",
    "    \n",
    "    def __init__(self, x, y, largura=None, comprimento=None):\n",
    "        super().__init__(x,y)\n",
    "        if largura != None:\n",
    "            self.largura = largura\n",
    "            \n",
    "        if comprimento != None:\n",
    "            self.comprimento = comprimento\n",
    "        else:\n",
    "            self.comprimento = largura\n",
    "        \n",
    "    def Area(self):\n",
    "        self.area = self.largura * self.comprimento\n",
    "        return self.area\n",
    "    \n",
    "    \n",
    "    def Perimetro(self):\n",
    "        self.perimetro = (2*self.comprimento) + (2*self.largura)\n",
    "        return self.perimetro\n",
    "    \n",
    "    \n",
    "    def Desenhar(self):\n",
    "        print(f'O objeto {self.nomeclasse} possui perímetro igual a {self.Perimetro()} e área igual a {self.Area()}')"
   ]
  },
  {
   "cell_type": "code",
   "execution_count": 17,
   "id": "bce1dc0b-66ab-433a-a6db-cbf841c412d0",
   "metadata": {},
   "outputs": [
    {
     "name": "stdout",
     "output_type": "stream",
     "text": [
      "O objeto Forma2d foi instanciado com sucesso\n"
     ]
    }
   ],
   "source": [
    "# Testando a classe Forma2d:\n",
    "\n",
    "forma2d_teste = Forma2d(0,0, 2, 4)"
   ]
  },
  {
   "cell_type": "code",
   "execution_count": 18,
   "id": "cf783a7f-f93c-4c2b-ba21-d5e0431cff31",
   "metadata": {},
   "outputs": [
    {
     "name": "stdout",
     "output_type": "stream",
     "text": [
      "O objeto Forma2d possui perímetro igual a 12 e área igual a 8\n"
     ]
    }
   ],
   "source": [
    "forma2d_teste.Desenhar()"
   ]
  },
  {
   "cell_type": "code",
   "execution_count": null,
   "id": "0a256779-c3aa-4450-b167-07dc82dd2d0c",
   "metadata": {},
   "outputs": [],
   "source": []
  },
  {
   "cell_type": "markdown",
   "id": "a9a38cb5-c45b-4193-a94b-945e90bb6a1a",
   "metadata": {},
   "source": [
    "***"
   ]
  },
  {
   "cell_type": "markdown",
   "id": "a98ecc5b-dfce-4844-97d9-fbb385b7a922",
   "metadata": {},
   "source": [
    "### Classes filhas da classe Forma2d:"
   ]
  },
  {
   "cell_type": "code",
   "execution_count": 19,
   "id": "d42f1ace-2e4b-4840-890e-f7a06e81831a",
   "metadata": {},
   "outputs": [],
   "source": [
    "class Poligono(Forma2d):\n",
    "    \n",
    "    pass"
   ]
  },
  {
   "cell_type": "code",
   "execution_count": 20,
   "id": "f9fce4b7-b909-4875-9a2d-0fffb188db2e",
   "metadata": {},
   "outputs": [
    {
     "name": "stdout",
     "output_type": "stream",
     "text": [
      "O objeto Poligono foi instanciado com sucesso\n"
     ]
    }
   ],
   "source": [
    "# Criando um polígono teste:\n",
    "\n",
    "poligono_teste = Poligono(0,0,2,4)"
   ]
  },
  {
   "cell_type": "code",
   "execution_count": 21,
   "id": "0f5a3d24-490c-4a73-843b-23fd03d929fb",
   "metadata": {},
   "outputs": [
    {
     "name": "stdout",
     "output_type": "stream",
     "text": [
      "O objeto Poligono possui perímetro igual a 12 e área igual a 8\n"
     ]
    }
   ],
   "source": [
    "poligono_teste.Desenhar()"
   ]
  },
  {
   "cell_type": "code",
   "execution_count": 22,
   "id": "eb8f7546-bfff-43a9-aa07-a571a5316f1a",
   "metadata": {},
   "outputs": [],
   "source": [
    "class Retangulo(Forma2d):\n",
    "    \n",
    "    \"\"\"\n",
    "    Classe filha da classe Forma2d\n",
    "    \"\"\"\n",
    "    pass"
   ]
  },
  {
   "cell_type": "code",
   "execution_count": 23,
   "id": "f523450c-2b39-4f91-a316-3f5776337c06",
   "metadata": {},
   "outputs": [
    {
     "name": "stdout",
     "output_type": "stream",
     "text": [
      "O objeto Retangulo foi instanciado com sucesso\n"
     ]
    }
   ],
   "source": [
    "retangulo_teste = Retangulo(0,0,2,6)"
   ]
  },
  {
   "cell_type": "code",
   "execution_count": 24,
   "id": "c39e75fc-c20f-4cfa-b6ff-e493edda359e",
   "metadata": {},
   "outputs": [
    {
     "data": {
      "text/plain": [
       "12"
      ]
     },
     "execution_count": 24,
     "metadata": {},
     "output_type": "execute_result"
    }
   ],
   "source": [
    "retangulo_teste.Area()"
   ]
  },
  {
   "cell_type": "code",
   "execution_count": 25,
   "id": "38fb2053-b237-4d8b-be7c-34154237f7a6",
   "metadata": {},
   "outputs": [
    {
     "name": "stdout",
     "output_type": "stream",
     "text": [
      "O objeto Retangulo possui perímetro igual a 16 e área igual a 12\n"
     ]
    }
   ],
   "source": [
    "retangulo_teste.Desenhar()"
   ]
  },
  {
   "cell_type": "code",
   "execution_count": 26,
   "id": "5a38b34f-8ebb-4fd4-9371-4813a0e14a83",
   "metadata": {},
   "outputs": [],
   "source": [
    "class Quadrado(Retangulo):\n",
    "    \n",
    "    pass"
   ]
  },
  {
   "cell_type": "code",
   "execution_count": 27,
   "id": "78982f4d-b3ff-4e07-99b4-f394e4c4e031",
   "metadata": {},
   "outputs": [
    {
     "name": "stdout",
     "output_type": "stream",
     "text": [
      "O objeto Quadrado foi instanciado com sucesso\n"
     ]
    }
   ],
   "source": [
    "quad_teste = Quadrado(0,0,4)"
   ]
  },
  {
   "cell_type": "code",
   "execution_count": 28,
   "id": "d1d1da8f-36eb-46e5-8327-38f8c06064ae",
   "metadata": {},
   "outputs": [
    {
     "data": {
      "text/plain": [
       "12"
      ]
     },
     "execution_count": 28,
     "metadata": {},
     "output_type": "execute_result"
    }
   ],
   "source": [
    "retangulo_teste.Area()"
   ]
  },
  {
   "cell_type": "code",
   "execution_count": 29,
   "id": "c4bc8f08-1f88-4b54-a84d-1c3b167d0ada",
   "metadata": {},
   "outputs": [
    {
     "name": "stdout",
     "output_type": "stream",
     "text": [
      "O objeto Retangulo possui perímetro igual a 16 e área igual a 12\n"
     ]
    }
   ],
   "source": [
    "retangulo_teste.Desenhar()"
   ]
  },
  {
   "cell_type": "code",
   "execution_count": 30,
   "id": "9057898b-4b19-4a7d-b35c-f87d73186dd5",
   "metadata": {},
   "outputs": [],
   "source": [
    "class Quadrado(Retangulo):\n",
    "    \n",
    "    pass"
   ]
  },
  {
   "cell_type": "code",
   "execution_count": 31,
   "id": "46c38074-c8d7-4499-93e4-c827fec77d03",
   "metadata": {},
   "outputs": [
    {
     "name": "stdout",
     "output_type": "stream",
     "text": [
      "O objeto Quadrado foi instanciado com sucesso\n"
     ]
    }
   ],
   "source": [
    "quad_teste = Quadrado(0,0,4)"
   ]
  },
  {
   "cell_type": "code",
   "execution_count": 32,
   "id": "74cd72a9-e97a-4dd8-9338-992e5a7e1aa1",
   "metadata": {},
   "outputs": [
    {
     "name": "stdout",
     "output_type": "stream",
     "text": [
      "O objeto Quadrado possui perímetro igual a 16 e área igual a 16\n"
     ]
    }
   ],
   "source": [
    "quad_teste.Desenhar()"
   ]
  },
  {
   "cell_type": "code",
   "execution_count": 33,
   "id": "e9d51b20-4a3b-42b4-a8f4-a8dccd0ef337",
   "metadata": {},
   "outputs": [],
   "source": [
    "class Circulo(Forma2d):\n",
    "    \n",
    "    def __init__(self, x, y, raio):\n",
    "        super().__init__(x,y)\n",
    "        self.raio = raio\n",
    "        \n",
    "    \n",
    "    def Area_circ(self):\n",
    "        \n",
    "        self.Area_circ = math.pi * (self.raio ** 2)\n",
    "        return self.Area_circ\n",
    "    \n",
    "    \n",
    "    def Comp(self):\n",
    "        \n",
    "        self.Comp = 2 * math.pi * self.raio\n",
    "        return self.Comp\n",
    "    \n",
    "    \n",
    "    def Desenhar(self):\n",
    "        print(f'O objeto {self.nomeclasse} possui perímetro igual a {self.Comp()} e área igual a {self.Area_circ()}')"
   ]
  },
  {
   "cell_type": "code",
   "execution_count": 34,
   "id": "a3b24ca9-96bf-4853-8f42-c465814bdc52",
   "metadata": {},
   "outputs": [
    {
     "name": "stdout",
     "output_type": "stream",
     "text": [
      "O objeto Circulo foi instanciado com sucesso\n"
     ]
    }
   ],
   "source": [
    "cir_teste = Circulo(0,0,4)"
   ]
  },
  {
   "cell_type": "code",
   "execution_count": 35,
   "id": "5977cdda-50f0-4336-9fff-b09482699f3c",
   "metadata": {},
   "outputs": [
    {
     "name": "stdout",
     "output_type": "stream",
     "text": [
      "O objeto Circulo possui perímetro igual a 25.132741228718345 e área igual a 50.26548245743669\n"
     ]
    }
   ],
   "source": [
    "cir_teste.Desenhar()"
   ]
  },
  {
   "cell_type": "code",
   "execution_count": 36,
   "id": "1c594c2e-b9cb-4dee-9910-5005ecc2a096",
   "metadata": {},
   "outputs": [],
   "source": [
    "class Forma3d(FormaGeo):\n",
    "    \n",
    "    def __init__(self, x, y, z, raio = None, lado = None):\n",
    "        super().__init__(x,y)\n",
    "        self.z = z\n",
    "        if raio != None:\n",
    "            self.raio = raio\n",
    "            \n",
    "        if lado != None:\n",
    "            self.lado = lado\n",
    "            \n",
    "            \n",
    "    def Desenhar(self):\n",
    "        print(f'O objeto {self.nomeclasse} possui centro em ({self.x},{self.y},{self.z})')"
   ]
  },
  {
   "cell_type": "code",
   "execution_count": 37,
   "id": "d6223924-30ec-4d90-9e61-48ad5c79efc9",
   "metadata": {},
   "outputs": [
    {
     "name": "stdout",
     "output_type": "stream",
     "text": [
      "O objeto Forma3d foi instanciado com sucesso\n"
     ]
    }
   ],
   "source": [
    "esf_teste = Forma3d(0,0,0)"
   ]
  },
  {
   "cell_type": "code",
   "execution_count": 38,
   "id": "20e262ba-fb0e-44b6-b576-456c7ddf04fa",
   "metadata": {},
   "outputs": [
    {
     "name": "stdout",
     "output_type": "stream",
     "text": [
      "O objeto Forma3d possui centro em (0,0,0)\n"
     ]
    }
   ],
   "source": [
    "esf_teste.Desenhar()"
   ]
  },
  {
   "cell_type": "code",
   "execution_count": 39,
   "id": "46f74006-3119-4c12-af2d-9bc57e69dbea",
   "metadata": {},
   "outputs": [],
   "source": [
    "class Esfera(Forma3d):\n",
    "    \n",
    "    def __init__(self, x, y, z, raio):\n",
    "        super().__init__(x,y,z)\n",
    "        self.raio = raio\n",
    "    \n",
    "    def Area_esfera(self):\n",
    "        \n",
    "        self.area_esfera = 4*  math.pi * (self.raio ** 2)\n",
    "        return self.area_esfera\n",
    "    \n",
    "    def Volume_esfera(self):\n",
    "        self.volume_esfera = (4/3) * math.pi * (self.raio **3)\n",
    "        return self.volume_esfera\n",
    "    \n",
    "    def Desenhar(self):\n",
    "        print(f'O objeto {self.nomeclasse} possui centro em ({self.x},{self.y},{self.z}), área de {self.Area_esfera()} e volume de {self.Volume_esfera()}')"
   ]
  },
  {
   "cell_type": "code",
   "execution_count": 40,
   "id": "3ed3cb77-78df-41d4-ad92-b85517183306",
   "metadata": {},
   "outputs": [
    {
     "name": "stdout",
     "output_type": "stream",
     "text": [
      "O objeto Esfera foi instanciado com sucesso\n"
     ]
    }
   ],
   "source": [
    "esfera = Esfera(0,0,0,4)"
   ]
  },
  {
   "cell_type": "code",
   "execution_count": 41,
   "id": "4c576d59-273c-4e19-a9a2-ddd189665400",
   "metadata": {},
   "outputs": [
    {
     "name": "stdout",
     "output_type": "stream",
     "text": [
      "O objeto Esfera possui centro em (0,0,0), área de 201.06192982974676 e volume de 268.082573106329\n"
     ]
    }
   ],
   "source": [
    "esfera.Desenhar()"
   ]
  },
  {
   "cell_type": "code",
   "execution_count": 42,
   "id": "2d63c79b-46b5-4847-83e5-a7b1bf11942c",
   "metadata": {},
   "outputs": [],
   "source": [
    "class Cilintro(Forma3d):\n",
    "    \n",
    "    def __init__(self, x, y, z, raio, lado):\n",
    "        super().__init__(x,y,z)\n",
    "        self.raio = raio\n",
    "        self.lado = lado\n",
    "        \n",
    "    \n",
    "    def Area_cil(self):\n",
    "        self.area_cil = (2 * math.pi * (self.raio**2)) + (2 * math.pi * self.raio * self.lado)\n",
    "        return self.area_cil\n",
    "    \n",
    "    \n",
    "    def Volume_cil(self):\n",
    "        self.volume_cil = (math.pi * (self.raio**2)) * self.lado \n",
    "        return self.volume_cil\n",
    "    \n",
    "    def Desenhar(self):\n",
    "        print(f'O objeto {self.nomeclasse} possui centro em ({self.x},{self.y},{self.z}), área de {self.Area_cil()} e volume de {self.Volume_cil()}')"
   ]
  },
  {
   "cell_type": "code",
   "execution_count": 43,
   "id": "0f8a6fae-1f6f-4820-9c5c-ac81fc3d8fef",
   "metadata": {},
   "outputs": [
    {
     "name": "stdout",
     "output_type": "stream",
     "text": [
      "O objeto Cilintro foi instanciado com sucesso\n"
     ]
    }
   ],
   "source": [
    "cilindro = Cilintro(0,0,0,4,10)"
   ]
  },
  {
   "cell_type": "code",
   "execution_count": 44,
   "id": "1f73b51a-b09a-4d63-a026-90b93bf7be3d",
   "metadata": {},
   "outputs": [
    {
     "name": "stdout",
     "output_type": "stream",
     "text": [
      "O objeto Cilintro possui centro em (0,0,0), área de 351.85837720205683 e volume de 502.6548245743669\n"
     ]
    }
   ],
   "source": [
    "cilindro.Desenhar()"
   ]
  },
  {
   "cell_type": "code",
   "execution_count": 45,
   "id": "e31a256a-f7e8-469a-bce4-7ffbdcdc420c",
   "metadata": {},
   "outputs": [],
   "source": [
    "class Quadro:\n",
    "    \n",
    "    def __init__(self,figuras_geo = []):\n",
    "        self.figuras_geo= figuras_geo\n",
    "\n",
    "    def Desenhar(self):\n",
    "        for figura in self.figuras_geo:\n",
    "            figura.Desenhar()\n",
    "            print('+-'*30)\n",
    "\n",
    "    def Adicionar_figura(self, figura):\n",
    "        self.figuras_geo.append(figura)\n",
    "        return self.figuras_geo\n",
    "\n",
    "    def Remover_figura(self, pos):\n",
    "        self.figuras_geo.pop(pos)\n",
    "        return self.figuras_geo"
   ]
  },
  {
   "cell_type": "code",
   "execution_count": null,
   "id": "01e1f0f5-52a8-4de5-bb79-2cc9f62fe263",
   "metadata": {},
   "outputs": [],
   "source": []
  }
 ],
 "metadata": {
  "kernelspec": {
   "display_name": "Python 3",
   "language": "python",
   "name": "python3"
  },
  "language_info": {
   "codemirror_mode": {
    "name": "ipython",
    "version": 3
   },
   "file_extension": ".py",
   "mimetype": "text/x-python",
   "name": "python",
   "nbconvert_exporter": "python",
   "pygments_lexer": "ipython3",
   "version": "3.8.8"
  }
 },
 "nbformat": 4,
 "nbformat_minor": 5
}
