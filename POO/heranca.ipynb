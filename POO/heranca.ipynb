{
 "cells": [
  {
   "cell_type": "code",
   "execution_count": 1,
   "id": "18e05323-3fd2-4254-8bed-a977cd99f48e",
   "metadata": {},
   "outputs": [],
   "source": [
    "class Pessoa:\n",
    "    \"Esta é uma superclasse\"\n",
    "    \n",
    "    def __init__(self, nome, idade):\n",
    "        self.nome = nome\n",
    "        self.idade = idade\n",
    "        self.nomeclasse = self.__class__.__name__\n",
    "        \n",
    "    def falar(self):\n",
    "        print(f'{self.nomeclasse} Falando...')\n",
    "        \n",
    "        \n",
    "        \n",
    "class Cliente(Pessoa):\n",
    "    \n",
    "    def __init__(self, nome, idade, cpf):\n",
    "        super().__init__(nome, idade)\n",
    "        self.__cpf = cpf\n",
    "        \n",
    "    @property\n",
    "    def cpf(self):\n",
    "        return self.__cpf\n",
    "    \n",
    "    def comprar(self):\n",
    "        print(f'{self.nomeclasse} Comprando...')"
   ]
  },
  {
   "cell_type": "code",
   "execution_count": 6,
   "id": "907ecc26-805f-4bbe-b671-c2fb9c1248ea",
   "metadata": {},
   "outputs": [],
   "source": [
    "p1 = Pessoa('Ananda', 28)"
   ]
  },
  {
   "cell_type": "code",
   "execution_count": 3,
   "id": "63256800-981c-4bef-be36-14922d9e6988",
   "metadata": {},
   "outputs": [
    {
     "name": "stdout",
     "output_type": "stream",
     "text": [
      "Ananda\n"
     ]
    }
   ],
   "source": [
    "print(p1.nome)"
   ]
  },
  {
   "cell_type": "code",
   "execution_count": 7,
   "id": "90ff8929-cd59-4084-a586-cf8c7c0a755e",
   "metadata": {},
   "outputs": [],
   "source": [
    "c1 = Cliente('Julio', 30, 123)"
   ]
  },
  {
   "cell_type": "code",
   "execution_count": 8,
   "id": "707e9b4f-929c-4ea1-8dc6-7b17a8437e90",
   "metadata": {},
   "outputs": [
    {
     "name": "stdout",
     "output_type": "stream",
     "text": [
      "Julio\n"
     ]
    }
   ],
   "source": [
    "print(c1.nome)"
   ]
  },
  {
   "cell_type": "code",
   "execution_count": 9,
   "id": "908ec6ea-e6e5-4464-ac1c-2a484879ab41",
   "metadata": {},
   "outputs": [
    {
     "name": "stdout",
     "output_type": "stream",
     "text": [
      "Cliente Comprando...\n"
     ]
    }
   ],
   "source": [
    "c1.comprar()"
   ]
  },
  {
   "cell_type": "code",
   "execution_count": 10,
   "id": "0234c3b4-244c-4f0f-a447-6c575356b68d",
   "metadata": {},
   "outputs": [
    {
     "name": "stdout",
     "output_type": "stream",
     "text": [
      "Cliente Falando...\n"
     ]
    }
   ],
   "source": [
    "c1.falar()"
   ]
  },
  {
   "cell_type": "code",
   "execution_count": 11,
   "id": "692f6a61-8648-42f8-a0dd-614a2cefb14b",
   "metadata": {},
   "outputs": [
    {
     "name": "stdout",
     "output_type": "stream",
     "text": [
      "Pessoa Falando...\n"
     ]
    }
   ],
   "source": [
    "p1.falar()"
   ]
  },
  {
   "cell_type": "code",
   "execution_count": 12,
   "id": "34e690d2-a84b-4e83-9bcf-03cbf3f9f411",
   "metadata": {},
   "outputs": [
    {
     "name": "stdout",
     "output_type": "stream",
     "text": [
      "Cliente Falando...\n"
     ]
    }
   ],
   "source": [
    "c1.falar()"
   ]
  },
  {
   "cell_type": "code",
   "execution_count": 16,
   "id": "415f54d5-6d79-4c59-9d66-4a09ac9728ef",
   "metadata": {},
   "outputs": [],
   "source": [
    "c2 = Cliente('Silvana', 30, 111059)"
   ]
  },
  {
   "cell_type": "code",
   "execution_count": 14,
   "id": "367f60b4-d9ac-4c59-8b11-c5653ba7a819",
   "metadata": {},
   "outputs": [
    {
     "data": {
      "text/plain": [
       "'Silvana'"
      ]
     },
     "execution_count": 14,
     "metadata": {},
     "output_type": "execute_result"
    }
   ],
   "source": [
    "c2.nome"
   ]
  },
  {
   "cell_type": "code",
   "execution_count": 15,
   "id": "16f27c5d-b397-48c5-9333-d1365af55689",
   "metadata": {},
   "outputs": [
    {
     "data": {
      "text/plain": [
       "111059"
      ]
     },
     "execution_count": 15,
     "metadata": {},
     "output_type": "execute_result"
    }
   ],
   "source": [
    "c2.cpf"
   ]
  },
  {
   "cell_type": "code",
   "execution_count": null,
   "id": "9d3c790d-8fa8-4ddf-988a-3825dde9752e",
   "metadata": {},
   "outputs": [],
   "source": []
  }
 ],
 "metadata": {
  "kernelspec": {
   "display_name": "Python 3",
   "language": "python",
   "name": "python3"
  },
  "language_info": {
   "codemirror_mode": {
    "name": "ipython",
    "version": 3
   },
   "file_extension": ".py",
   "mimetype": "text/x-python",
   "name": "python",
   "nbconvert_exporter": "python",
   "pygments_lexer": "ipython3",
   "version": "3.8.8"
  }
 },
 "nbformat": 4,
 "nbformat_minor": 5
}
