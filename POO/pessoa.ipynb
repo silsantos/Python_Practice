{
 "cells": [
  {
   "cell_type": "markdown",
   "id": "1c4f4073-11ce-4cc9-9f8d-4d4407e508be",
   "metadata": {},
   "source": [
    "### Classes:"
   ]
  },
  {
   "cell_type": "markdown",
   "id": "b0d2ab5b-a00f-40f7-997d-0ca10e74769e",
   "metadata": {},
   "source": [
    "#### Classes representam instâncias do mundo real. São um \"template\", ou seja, a classe é um modelo de objeto do mundo real.\n",
    "\n",
    "#### Numa classe, são definidas características comuns a todos os objetos que pertencem a essa classe.\n",
    "\n",
    "#### Exemplo: Numa classe chamada 'Pessoa', temos características comuns a todos os objetos desta classe, isto é, a todas as pessoas. Por exemplo: nome e idade.\n",
    "\n",
    "#### Cor da pele, dos olhos e características similares são atributos específicos do objeto 'pessoa'."
   ]
  },
  {
   "cell_type": "code",
   "execution_count": 1,
   "id": "429cb9e6-da87-4ab4-95a1-0a3cb0e149a2",
   "metadata": {},
   "outputs": [],
   "source": [
    "# Definindo uma classe:\n",
    "\n",
    "class Pessoa:\n",
    "    \n",
    "    # Função construtora:\n",
    "    def __init__(self, nome, idade, comendo = False, falando = False):\n",
    "        self.nome = nome\n",
    "        self.idade = idade\n",
    "        self.comendo = comendo\n",
    "        self.falando = falando"
   ]
  },
  {
   "cell_type": "code",
   "execution_count": 2,
   "id": "6f9d6b09-432f-42b2-b739-bcac23cae24c",
   "metadata": {},
   "outputs": [],
   "source": [
    "# Definindo um objeto 'pessoa' da classe 'Pessoa':\n",
    "\n",
    "p1 = Pessoa('Julio', 30)\n",
    "p2 = Pessoa('José', 42)\n",
    "p3 = Pessoa('Maria', 29)"
   ]
  },
  {
   "cell_type": "code",
   "execution_count": 8,
   "id": "762e315d-0627-498b-9d4c-d5959ab8ede7",
   "metadata": {},
   "outputs": [
    {
     "data": {
      "text/plain": [
       "'Maria'"
      ]
     },
     "execution_count": 8,
     "metadata": {},
     "output_type": "execute_result"
    }
   ],
   "source": [
    "# Mostrando o objeto:\n",
    "print('"
   ]
  },
  {
   "cell_type": "code",
   "execution_count": null,
   "id": "ff1e776c-500a-48d6-91f3-1210844db0c7",
   "metadata": {},
   "outputs": [],
   "source": []
  }
 ],
 "metadata": {
  "kernelspec": {
   "display_name": "Python 3 (ipykernel)",
   "language": "python",
   "name": "python3"
  },
  "language_info": {
   "codemirror_mode": {
    "name": "ipython",
    "version": 3
   },
   "file_extension": ".py",
   "mimetype": "text/x-python",
   "name": "python",
   "nbconvert_exporter": "python",
   "pygments_lexer": "ipython3",
   "version": "3.9.7"
  }
 },
 "nbformat": 4,
 "nbformat_minor": 5
}
