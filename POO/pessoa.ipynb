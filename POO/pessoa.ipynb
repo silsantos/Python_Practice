{
 "cells": [
  {
   "cell_type": "markdown",
   "id": "1c4f4073-11ce-4cc9-9f8d-4d4407e508be",
   "metadata": {},
   "source": [
    "### Classes:"
   ]
  },
  {
   "cell_type": "markdown",
   "id": "b0d2ab5b-a00f-40f7-997d-0ca10e74769e",
   "metadata": {},
   "source": [
    "#### Classes representam instâncias do mundo real. São um \"template\", ou seja, a classe é um modelo de objeto do mundo real.\n",
    "\n",
    "#### Numa classe, são definidas características comuns a todos os objetos que pertencem a essa classe.\n",
    "\n",
    "#### Exemplo: Numa classe chamada 'Pessoa', temos características comuns a todos os objetos desta classe, isto é, a todas as pessoas. Por exemplo: nome e idade.\n",
    "\n",
    "#### Cor da pele, dos olhos e características similares são atributos específicos do objeto 'pessoa'."
   ]
  },
  {
   "cell_type": "code",
   "execution_count": 1,
   "id": "7ee8684a-b0a4-4394-af58-59092e353668",
   "metadata": {},
   "outputs": [],
   "source": [
    "# Importação de bibliotecas:\n",
    "\n",
    "from datetime import datetime"
   ]
  },
  {
   "cell_type": "markdown",
   "id": "9058b7ad-1cf5-45a6-9c2e-4b55e094cc74",
   "metadata": {},
   "source": [
    "### Objetos:\n",
    "\n",
    "#### São criados a partir do \"modelo\" estabelecido pela classe.\n",
    "\n",
    "#### Possuem:\n",
    "\n",
    "* Atributos: Ajudam a identificar os objetos com características específicas.\n",
    "\n",
    "* Métodos: São funções dentro de uma classe que estabelecem as ações que podem ser executadas pelo objeto. Ex.: Comer, Falar."
   ]
  },
  {
   "cell_type": "code",
   "execution_count": 2,
   "id": "8e0b3d10-80b7-48ef-9134-6f79b11b7742",
   "metadata": {},
   "outputs": [],
   "source": [
    "# Definindo os métodos 'Falar', 'Parar de falar', 'Comer', \"Parar de comer':\n",
    "\n",
    "class Pessoa:\n",
    "    \n",
    "    # Definindo o ano atual:\n",
    "    ano_atual = int(datetime.strftime(datetime.now(), '%Y'))\n",
    "    \n",
    "    # Função construtora:\n",
    "    def __init__(self, nome, idade, comendo = False, falando = False):\n",
    "        self.nome = nome\n",
    "        self.idade = idade\n",
    "        self.comendo = comendo\n",
    "        self.falando = falando\n",
    "        \n",
    "    # Método Falar:\n",
    "    def Falar(self,assunto):\n",
    "        \n",
    "        # Não quero que meu objeto (p1, p2, etc) fale caso esteja comendo:\n",
    "        if self.comendo:\n",
    "            print(f'{self.nome} não pode falar porque está comendo.')\n",
    "            return\n",
    "        \n",
    "        # Se o objeto já estiver falando, não quero que mude de assunto.\n",
    "        if self.falando:\n",
    "            print(f'{self.nome} já está falando sobre o assunto {assunto}. ')\n",
    "            return\n",
    "        \n",
    "        # Método Falar:\n",
    "        print(f'{self.nome} está falando sobre {assunto}.')\n",
    "        self.falando = True\n",
    "        \n",
    "    # Método \"parar de falar\":\n",
    "    \n",
    "    def parar_falar(self):\n",
    "        \n",
    "        # O objeto só pode parar de falar caso esteja falando:\n",
    "        if not self.falando:\n",
    "            print(f'{self.nome} não está falando no momento.')\n",
    "            return\n",
    "        \n",
    "        print(f'{self.nome} parou de falar.')\n",
    "        self.falando = False\n",
    "        \n",
    "    # Método Comer:\n",
    "    def Comer(self, alimento):\n",
    "        \n",
    "        # Se o objeto estiver falando, ele não vai comer:\n",
    "        if self.falando:\n",
    "            print(f'{self.nome}  não pode comer porque está falando.')\n",
    "            return\n",
    "            \n",
    "        # Se o objeto já estiver comendo um alimento, ele não comerá outro:\n",
    "        if self.comendo:\n",
    "            print(f'{self.nome} já está comendo {alimento}.')\n",
    "            return\n",
    "            \n",
    "        # Método comer:\n",
    "        print(f'{self.nome} está comendo {alimento}.')\n",
    "        self.comendo = True\n",
    "        \n",
    "    # Método parar de comer:\n",
    "    def parar_comer(self):\n",
    "        \n",
    "        # O objeto só pode parar de comer caso já esteja comendo:\n",
    "        if not self.comendo:\n",
    "            print(f'{self.nome} não está comendo no momento.')\n",
    "            return\n",
    "        \n",
    "        print(f'{self.nome} parou de comer.')\n",
    "        self.comendo = False\n",
    "        \n",
    "    # Método para saber o ano de nascimento:\n",
    "    def get_ano_nascimento(self):\n",
    "        return self.ano_atual - self.idade "
   ]
  },
  {
   "cell_type": "code",
   "execution_count": 3,
   "id": "03263324-9665-4c93-a4bb-9c49cae2fe86",
   "metadata": {},
   "outputs": [],
   "source": [
    "# Definindo um objeto 'pessoa' da classe 'Pessoa':\n",
    "\n",
    "p1 = Pessoa('Julio', 30)\n",
    "p2 = Pessoa('José', 42)\n",
    "p3 = Pessoa('Maria', 29)"
   ]
  },
  {
   "cell_type": "code",
   "execution_count": 4,
   "id": "6c0307d8-966e-4ae0-a0e1-92de268ffe41",
   "metadata": {},
   "outputs": [
    {
     "name": "stdout",
     "output_type": "stream",
     "text": [
      "A segunda pessoa criada foi José e ele(a) tem 42 anos de idade\n"
     ]
    }
   ],
   "source": [
    "# Mostrando o objeto criado:\n",
    "print(f'A segunda pessoa criada foi {p2.nome} e ele(a) tem {p2.idade} anos de idade')"
   ]
  },
  {
   "cell_type": "code",
   "execution_count": 5,
   "id": "f7fbe55e-eb77-4e38-a7de-b9e48a14b374",
   "metadata": {},
   "outputs": [
    {
     "name": "stdout",
     "output_type": "stream",
     "text": [
      "Julio está comendo Maçã.\n"
     ]
    }
   ],
   "source": [
    "# Utilizando os métodos:\n",
    "\n",
    "p1.Comer('Maçã')"
   ]
  },
  {
   "cell_type": "code",
   "execution_count": 6,
   "id": "62e7fe90-42ad-48f8-844d-dc1604a07795",
   "metadata": {},
   "outputs": [
    {
     "name": "stdout",
     "output_type": "stream",
     "text": [
      "Julio não pode falar porque está comendo.\n"
     ]
    }
   ],
   "source": [
    "p1.Falar('Política')"
   ]
  },
  {
   "cell_type": "code",
   "execution_count": 7,
   "id": "bee0c5fd-d489-4fe9-adb8-a39c9c097d50",
   "metadata": {},
   "outputs": [
    {
     "name": "stdout",
     "output_type": "stream",
     "text": [
      "Julio parou de comer.\n"
     ]
    }
   ],
   "source": [
    "p1.parar_comer()"
   ]
  },
  {
   "cell_type": "code",
   "execution_count": 8,
   "id": "ddd67ece-0985-4f8b-b05b-b64b5292866f",
   "metadata": {},
   "outputs": [
    {
     "name": "stdout",
     "output_type": "stream",
     "text": [
      "Julio está falando sobre Política.\n"
     ]
    }
   ],
   "source": [
    "p1.Falar('Política')"
   ]
  },
  {
   "cell_type": "code",
   "execution_count": null,
   "id": "95445003-9104-4232-9585-a5273f95e03f",
   "metadata": {},
   "outputs": [],
   "source": []
  }
 ],
 "metadata": {
  "kernelspec": {
   "display_name": "Python 3 (ipykernel)",
   "language": "python",
   "name": "python3"
  },
  "language_info": {
   "codemirror_mode": {
    "name": "ipython",
    "version": 3
   },
   "file_extension": ".py",
   "mimetype": "text/x-python",
   "name": "python",
   "nbconvert_exporter": "python",
   "pygments_lexer": "ipython3",
   "version": "3.9.7"
  }
 },
 "nbformat": 4,
 "nbformat_minor": 5
}
