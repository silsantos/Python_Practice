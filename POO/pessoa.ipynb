{
 "cells": [
  {
   "cell_type": "markdown",
   "id": "1c4f4073-11ce-4cc9-9f8d-4d4407e508be",
   "metadata": {},
   "source": [
    "### Classes:"
   ]
  },
  {
   "cell_type": "markdown",
   "id": "b0d2ab5b-a00f-40f7-997d-0ca10e74769e",
   "metadata": {},
   "source": [
    "#### Classes representam instâncias do mundo real. São um \"template\", ou seja, a classe é um modelo de objeto do mundo real.\n",
    "\n",
    "#### Numa classe, são definidas características comuns a todos os objetos que pertencem a essa classe.\n",
    "\n",
    "#### Exemplo: Numa classe chamada 'Pessoa', temos características comuns a todos os objetos desta classe, isto é, a todas as pessoas. Por exemplo: nome e idade.\n",
    "\n",
    "#### Cor da pele, dos olhos e características similares são atributos específicos do objeto 'pessoa'."
   ]
  },
  {
   "cell_type": "code",
   "execution_count": 1,
   "id": "7ee8684a-b0a4-4394-af58-59092e353668",
   "metadata": {},
   "outputs": [],
   "source": [
    "# Importação de bibliotecas:\n",
    "\n",
    "from datetime import datetime\n",
    "from random import randint"
   ]
  },
  {
   "cell_type": "markdown",
   "id": "9058b7ad-1cf5-45a6-9c2e-4b55e094cc74",
   "metadata": {},
   "source": [
    "### Objetos:\n",
    "\n",
    "#### São criados a partir do \"modelo\" estabelecido pela classe.\n",
    "\n",
    "#### Possuem:\n",
    "\n",
    "* Atributos: Ajudam a identificar os objetos com características específicas.\n",
    "\n",
    "* Métodos: São funções dentro de uma classe que estabelecem as ações que podem ser executadas pelo objeto. Ex.: Comer, Falar."
   ]
  },
  {
   "cell_type": "code",
   "execution_count": 2,
   "id": "8e0b3d10-80b7-48ef-9134-6f79b11b7742",
   "metadata": {},
   "outputs": [],
   "source": [
    "# Definindo os métodos 'Falar', 'Parar de falar', 'Comer', \"Parar de comer':\n",
    "\n",
    "class Pessoa:\n",
    "    \n",
    "    # Note que esse é um atributo genérico, não se refere a uma pessoa especificamente.\n",
    "    # Definindo o ano atual:\n",
    "    ano_atual = int(datetime.strftime(datetime.now(), '%Y'))\n",
    "    \n",
    "    # Função construtora:\n",
    "    def __init__(self, nome, idade, comendo = False, falando = False):\n",
    "        self.nome = nome\n",
    "        self.idade = idade\n",
    "        self.comendo = comendo\n",
    "        self.falando = falando\n",
    "        \n",
    "    # Método Falar:\n",
    "    def Falar(self,assunto):\n",
    "        \n",
    "        # Não quero que meu objeto (p1, p2, etc) fale caso esteja comendo:\n",
    "        if self.comendo:\n",
    "            print(f'{self.nome} não pode falar porque está comendo.')\n",
    "            return\n",
    "        \n",
    "        # Se o objeto já estiver falando, não quero que mude de assunto.\n",
    "        if self.falando:\n",
    "            print(f'{self.nome} já está falando sobre o assunto {assunto}. ')\n",
    "            return\n",
    "        \n",
    "        # Método Falar:\n",
    "        print(f'{self.nome} está falando sobre {assunto}.')\n",
    "        self.falando = True\n",
    "        \n",
    "    # Método \"parar de falar\":\n",
    "    \n",
    "    def parar_falar(self):\n",
    "        \n",
    "        # O objeto só pode parar de falar caso esteja falando:\n",
    "        if not self.falando:\n",
    "            print(f'{self.nome} não está falando no momento.')\n",
    "            return\n",
    "        \n",
    "        print(f'{self.nome} parou de falar.')\n",
    "        self.falando = False\n",
    "        \n",
    "    # Método Comer:\n",
    "    def Comer(self, alimento):\n",
    "        \n",
    "        # Se o objeto estiver falando, ele não vai comer:\n",
    "        if self.falando:\n",
    "            print(f'{self.nome}  não pode comer porque está falando.')\n",
    "            return\n",
    "            \n",
    "        # Se o objeto já estiver comendo um alimento, ele não comerá outro:\n",
    "        if self.comendo:\n",
    "            print(f'{self.nome} já está comendo {alimento}.')\n",
    "            return\n",
    "            \n",
    "        # Método comer:\n",
    "        print(f'{self.nome} está comendo {alimento}.')\n",
    "        self.comendo = True\n",
    "        \n",
    "    # Método parar de comer:\n",
    "    def parar_comer(self):\n",
    "        \n",
    "        # O objeto só pode parar de comer caso já esteja comendo:\n",
    "        if not self.comendo:\n",
    "            print(f'{self.nome} não está comendo no momento.')\n",
    "            return\n",
    "        \n",
    "        print(f'{self.nome} parou de comer.')\n",
    "        self.comendo = False\n",
    "        \n",
    "    # Método para saber o ano de nascimento:\n",
    "    def get_ano_nascimento(self):\n",
    "        return self.ano_atual - self.idade \n",
    "    \n",
    "    # Ver NOTA 1 abaixo:\n",
    "    # Método de classe:\n",
    "    @classmethod\n",
    "    def por_ano_nasc(cls, nome, ano_nascimento):\n",
    "        \n",
    "        age = cls.ano_atual - ano_nascimento\n",
    "        return cls(nome, age)\n",
    "        \n",
    "    \n",
    "    # Ver NOTA 2 abaixo:\n",
    "    # Método Estático:\n",
    "    @staticmethod\n",
    "    def gera_id():\n",
    "        rand = randint(10000,99999)\n",
    "        return rand"
   ]
  },
  {
   "cell_type": "code",
   "execution_count": 3,
   "id": "03263324-9665-4c93-a4bb-9c49cae2fe86",
   "metadata": {},
   "outputs": [],
   "source": [
    "# Definindo um objeto 'pessoa' da classe 'Pessoa':\n",
    "\n",
    "p1 = Pessoa('Julio', 30)\n",
    "p2 = Pessoa('José', 42)\n",
    "p3 = Pessoa('Maria', 29)"
   ]
  },
  {
   "cell_type": "code",
   "execution_count": 4,
   "id": "6c0307d8-966e-4ae0-a0e1-92de268ffe41",
   "metadata": {},
   "outputs": [
    {
     "name": "stdout",
     "output_type": "stream",
     "text": [
      "A segunda pessoa criada foi José e ele(a) tem 42 anos de idade\n"
     ]
    }
   ],
   "source": [
    "# Mostrando o objeto criado:\n",
    "print(f'A segunda pessoa criada foi {p2.nome} e ele(a) tem {p2.idade} anos de idade')"
   ]
  },
  {
   "cell_type": "code",
   "execution_count": 5,
   "id": "f7fbe55e-eb77-4e38-a7de-b9e48a14b374",
   "metadata": {},
   "outputs": [
    {
     "name": "stdout",
     "output_type": "stream",
     "text": [
      "Julio está comendo Maçã.\n"
     ]
    }
   ],
   "source": [
    "# Utilizando os métodos:\n",
    "\n",
    "p1.Comer('Maçã')"
   ]
  },
  {
   "cell_type": "code",
   "execution_count": 6,
   "id": "62e7fe90-42ad-48f8-844d-dc1604a07795",
   "metadata": {},
   "outputs": [
    {
     "name": "stdout",
     "output_type": "stream",
     "text": [
      "Julio não pode falar porque está comendo.\n"
     ]
    }
   ],
   "source": [
    "p1.Falar('Política')"
   ]
  },
  {
   "cell_type": "code",
   "execution_count": 7,
   "id": "bee0c5fd-d489-4fe9-adb8-a39c9c097d50",
   "metadata": {},
   "outputs": [
    {
     "name": "stdout",
     "output_type": "stream",
     "text": [
      "Julio parou de comer.\n"
     ]
    }
   ],
   "source": [
    "p1.parar_comer()"
   ]
  },
  {
   "cell_type": "code",
   "execution_count": 8,
   "id": "ddd67ece-0985-4f8b-b05b-b64b5292866f",
   "metadata": {},
   "outputs": [
    {
     "name": "stdout",
     "output_type": "stream",
     "text": [
      "Julio está falando sobre Política.\n"
     ]
    }
   ],
   "source": [
    "p1.Falar('Política')"
   ]
  },
  {
   "cell_type": "code",
   "execution_count": 9,
   "id": "95445003-9104-4232-9585-a5273f95e03f",
   "metadata": {},
   "outputs": [
    {
     "data": {
      "text/plain": [
       "1991"
      ]
     },
     "execution_count": 9,
     "metadata": {},
     "output_type": "execute_result"
    }
   ],
   "source": [
    "p1.get_ano_nascimento()"
   ]
  },
  {
   "cell_type": "markdown",
   "id": "933177ee-6ab9-42fc-aaa0-7f9f7a414433",
   "metadata": {},
   "source": [
    "## NOTA 1:\n",
    "\n",
    "### Note que o método get_ano_nascimento é um método relacionado ao objeto criado (p1, por exemplo). Ou seja, calcularemos o ano de nascimento baseado na informação de idade fornecida no momento da criação do objeto. Esse é um método de INSTÂNCIA. (Observe que precisamos aqui do parâmetro SELF)\n",
    "\n",
    "### No entanto, posso criar um método que esteja relacionado DIRETAMENTE à classe Pessoa. Este é chamado de método de classe. Este método utilizará a informação do ano que, podemos notar, está definido fora dos outros métodos.  (Note que não usamos o parâmetro SELF neste método)"
   ]
  },
  {
   "cell_type": "code",
   "execution_count": 10,
   "id": "9d290a26-dd37-44c3-b09f-a6e70b854134",
   "metadata": {},
   "outputs": [
    {
     "name": "stdout",
     "output_type": "stream",
     "text": [
      "30\n"
     ]
    },
    {
     "data": {
      "text/plain": [
       "1991"
      ]
     },
     "execution_count": 10,
     "metadata": {},
     "output_type": "execute_result"
    }
   ],
   "source": [
    "print(p1.idade)\n",
    "p1.get_ano_nascimento()"
   ]
  },
  {
   "cell_type": "code",
   "execution_count": 11,
   "id": "41be912a-6e37-4e19-9756-2b746e907dfd",
   "metadata": {},
   "outputs": [],
   "source": [
    "# Criando uma pessoa por ano de nascimento:\n",
    "\n",
    "p4 = Pessoa.por_ano_nasc('Fernanda', 1991)"
   ]
  },
  {
   "cell_type": "code",
   "execution_count": 12,
   "id": "e39d6a97-3888-4665-94e9-fa27cf67d57a",
   "metadata": {},
   "outputs": [
    {
     "name": "stdout",
     "output_type": "stream",
     "text": [
      "30\n"
     ]
    }
   ],
   "source": [
    "# Verificando a idade de p4:\n",
    "\n",
    "print(p4.idade)"
   ]
  },
  {
   "cell_type": "markdown",
   "id": "40b8b2bc-727b-451a-b1c5-b114b684e522",
   "metadata": {},
   "source": [
    "## NOTA 2:\n",
    "\n",
    "### Métodos Estáticos (Static Methods): Não precisa da instância, nem da classe (Ou seja, não usa o SELF e nem o CLS).\n",
    "\n",
    "### É uma função \"normal\", que estaria fora da classe, mas que, por questões de organização, é colocada dentro da classe."
   ]
  },
  {
   "cell_type": "code",
   "execution_count": 13,
   "id": "a922ff56-3c6a-47be-868c-8e05d2bbac08",
   "metadata": {},
   "outputs": [
    {
     "name": "stdout",
     "output_type": "stream",
     "text": [
      "29370\n"
     ]
    }
   ],
   "source": [
    "# Gerando um ID:\n",
    "\n",
    "print(Pessoa.gera_id())"
   ]
  },
  {
   "cell_type": "code",
   "execution_count": 14,
   "id": "4f3d2443-a324-434c-9e25-dc0c6b59b8ed",
   "metadata": {},
   "outputs": [
    {
     "name": "stdout",
     "output_type": "stream",
     "text": [
      "28006\n"
     ]
    }
   ],
   "source": [
    "print(p1.gera_id())"
   ]
  },
  {
   "cell_type": "code",
   "execution_count": null,
   "id": "7947708e-e9de-4aa1-ad9e-655d7a8c1242",
   "metadata": {},
   "outputs": [],
   "source": []
  }
 ],
 "metadata": {
  "kernelspec": {
   "display_name": "Python 3",
   "language": "python",
   "name": "python3"
  },
  "language_info": {
   "codemirror_mode": {
    "name": "ipython",
    "version": 3
   },
   "file_extension": ".py",
   "mimetype": "text/x-python",
   "name": "python",
   "nbconvert_exporter": "python",
   "pygments_lexer": "ipython3",
   "version": "3.8.8"
  }
 },
 "nbformat": 4,
 "nbformat_minor": 5
}
