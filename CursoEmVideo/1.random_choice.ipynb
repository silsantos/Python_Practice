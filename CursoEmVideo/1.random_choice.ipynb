{
 "cells": [
  {
   "cell_type": "code",
   "execution_count": 20,
   "id": "0f445cef-94a3-4e4b-b533-b309cf5aa60b",
   "metadata": {},
   "outputs": [],
   "source": [
    "import random\n",
    "from time import sleep"
   ]
  },
  {
   "cell_type": "code",
   "execution_count": 21,
   "id": "9644fdc0-a960-45a3-8251-a69775b78f75",
   "metadata": {},
   "outputs": [],
   "source": [
    "cor = {'vermelho':'\\033[31m', 'verde':'\\033[32m', 'amarelo':'\\033[33m',\n",
    "       'azul': '\\033[34m', 'lilás': '\\033[35m', 'azul-claro': '\\033[36m',\n",
    "       'cinza': '\\033[37m', 'branco':'\\033[30m'}\n",
    "\n",
    "fundo = {'vermelho':'\\033[41m', 'verde':'\\033[42m', 'amarelo':'\\033[43m',\n",
    "       'azul': '\\033[44m', 'lilás': '\\033[45m', 'azul-claro': '\\033[46m',\n",
    "       'cinza': '\\033[47m', 'branco':'\\033[30m'}\n",
    "\n",
    "def cores(msg, c, f):\n",
    "    \"\"\" Função que formata um texto com cor de texto e cor de fundo. As cores disponíveis para o texto e fundo são:\n",
    "    Vermelho, verde, amarelo, azul, lilás, azul-claro, cinza e branco.\n",
    "    Exemplo de uso da função: print(cores(texto, 'vermelho', 'amarelo')) >> texto terá fonte vermelha e fundo amarelo.\n",
    "\n",
    "    :param msg: Mensagem a ser formatada.\n",
    "    :param c: Cor do texto.\n",
    "    :param f: Fundo do texto\n",
    "    :return: Retorna o texto formatado.\n",
    "    \"\"\"\n",
    "    return f'{cor[c]}{fundo[f]}{msg}\\033[m'"
   ]
  },
  {
   "cell_type": "code",
   "execution_count": 22,
   "id": "8002f912-97fc-4bb7-89c4-bafb476cd58e",
   "metadata": {},
   "outputs": [
    {
     "name": "stdin",
     "output_type": "stream",
     "text": [
      "Digite o nome do 1°:  Sil\n",
      "Digite o nome do 2°:  Nanda\n",
      "Digite o nome do 3°:  Eve\n",
      "Digite o nome do 4°:  Tou\n"
     ]
    }
   ],
   "source": [
    "alunos = list()\n",
    "\n",
    "for aluno in range (0,4):\n",
    "    a = str(input(f'Digite o nome do {aluno+1}°: '))\n",
    "    alunos.append(a)"
   ]
  },
  {
   "cell_type": "code",
   "execution_count": 23,
   "id": "0665faeb-1a4d-4238-bc8e-d25966e468be",
   "metadata": {},
   "outputs": [
    {
     "name": "stdout",
     "output_type": "stream",
     "text": [
      "Aguarde enquanto sorteio o aluno...\n"
     ]
    }
   ],
   "source": [
    "escolhido = random.choice(alunos)\n",
    "print('Aguarde enquanto sorteio o aluno...')\n",
    "sleep(1)"
   ]
  },
  {
   "cell_type": "code",
   "execution_count": 26,
   "id": "d0731695-240e-46ac-8127-6844c1db4324",
   "metadata": {},
   "outputs": [
    {
     "name": "stdout",
     "output_type": "stream",
     "text": [
      "O nome do aluno escolhido é \u001b[31m\u001b[43mNanda\u001b[m\n"
     ]
    }
   ],
   "source": [
    "print(f\"O nome do aluno escolhido é {cores(escolhido,'vermelho','amarelo')}\")\n"
   ]
  }
 ],
 "metadata": {
  "kernelspec": {
   "display_name": "Python 3",
   "language": "python",
   "name": "python3"
  },
  "language_info": {
   "codemirror_mode": {
    "name": "ipython",
    "version": 3
   },
   "file_extension": ".py",
   "mimetype": "text/x-python",
   "name": "python",
   "nbconvert_exporter": "python",
   "pygments_lexer": "ipython3",
   "version": "3.9.1"
  }
 },
 "nbformat": 4,
 "nbformat_minor": 5
}
