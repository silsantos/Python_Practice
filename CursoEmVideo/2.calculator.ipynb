{
 "cells": [
  {
   "cell_type": "markdown",
   "id": "a6c90cf9-3761-4eeb-a7f5-4ad7d9882984",
   "metadata": {},
   "source": [
    "Calculadora Básica para operações com, no máximo, 2 números."
   ]
  },
  {
   "cell_type": "code",
   "execution_count": 1,
   "id": "5dfa6f65-9243-4694-999d-969693fc354e",
   "metadata": {},
   "outputs": [],
   "source": [
    "from time import sleep\n",
    "import math"
   ]
  },
  {
   "cell_type": "code",
   "execution_count": 2,
   "id": "583e6787-1209-4807-97d6-f51131618711",
   "metadata": {},
   "outputs": [],
   "source": [
    "#Definição de função leitora de números reais:\n",
    "def readFloat(msg):\n",
    "    while True:\n",
    "        try:\n",
    "            n = float(input(msg))\n",
    "        except(ValueError, TypeError):\n",
    "            print('\\033[0;31m ERRO! Digite um número real válido\\033[m')\n",
    "            continue\n",
    "        except KeyboardInterrupt:\n",
    "            print('O usuário preferiu não informar número algum.')\n",
    "            break\n",
    "        else:\n",
    "            return n"
   ]
  },
  {
   "cell_type": "code",
   "execution_count": 3,
   "id": "3558a4af-f406-4840-8693-b25d60e4f355",
   "metadata": {},
   "outputs": [],
   "source": [
    "#Definição de função leitora de números inteiros:\n",
    "def readInt(msg):\n",
    "    while True:\n",
    "        try:\n",
    "            n = int(input(msg))\n",
    "        except(ValueError,TypeError):\n",
    "            print(f'\\033[1;31mERRO! Você não digitou o número correspondente a uma opção válida. Tente novamente.\\033[m')\n",
    "            continue\n",
    "        except(KeyboardInterrupt):\n",
    "            print('O usuário preferiu não informar uma opção')\n",
    "            break\n",
    "        else:\n",
    "            return n"
   ]
  },
  {
   "cell_type": "code",
   "execution_count": 7,
   "id": "bfba553b-afd7-45f6-9099-1c94ce98ba2e",
   "metadata": {},
   "outputs": [
    {
     "name": "stdout",
     "output_type": "stream",
     "text": [
      "====================\n",
      "[ 1 ] SOMAR\n",
      "[ 2 ] SUBTRAIR\n",
      "[ 3 ] MULTIPLICAR\n",
      "[ 4 ] DIVIDIR\n",
      "[ 5 ] FATORIAL\n",
      "[ 6 ] RAÍZ\n",
      "[ 7 ] SENO\n",
      "[ 8 ] COSSENO\n",
      "[ 99 ] SAIR\n",
      "\n",
      "====================\n"
     ]
    },
    {
     "name": "stdin",
     "output_type": "stream",
     "text": [
      "Digite a sua opção:  99\n"
     ]
    },
    {
     "name": "stdout",
     "output_type": "stream",
     "text": [
      "\u001b[1;34mObrigada por utilizar a calculadora. Volte sempre!\u001b[m\n"
     ]
    }
   ],
   "source": [
    "#Mostra opções e lê opção escolhida pelo usuário:\n",
    "option = 0\n",
    "while option != 99:\n",
    "    print('='*20)\n",
    "    print(f'{\"[ 1 ] SOMAR\"}\\n{\"[ 2 ] SUBTRAIR\"}\\n{\"[ 3 ] MULTIPLICAR\"}\\n{\"[ 4 ] DIVIDIR\"}\\n{\"[ 5 ] FATORIAL\"}\\n{\"[ 6 ] RAÍZ\"}\\n{\"[ 7 ] SENO\"}\\n{\"[ 8 ] COSSENO\"}\\n{\"[ 99 ] SAIR\"}\\n')\n",
    "    print('='*20)\n",
    "    \n",
    "    option = readInt('Digite a sua opção: ')\n",
    "    \n",
    "    if (option == 1) or (option == 2) or (option == 3) or (option == 4):\n",
    "    #Leitura dos números a depender da operação escolhida pelo usuário\n",
    "        n1 = readFloat('Digite o 1° número: ')\n",
    "        n2 = readFloat('Digite o 2° número: ')\n",
    "        sleep(0.3)\n",
    "        print('Calculando...')\n",
    "        sleep(1)\n",
    "        \n",
    "        if option == 1: # Option 1: SOMA DE 2 NÚMEROS\n",
    "            print(f'{n1} + {n2} = {n1 + n2}')\n",
    "            sleep(2)\n",
    "            \n",
    "        if option == 2: #Option 2: SUBTRAÇÃO DE 2 NÚMEROS\n",
    "            print(f'{n1} - {n2} = {n1 - n2}')\n",
    "            sleep(2)\n",
    "            \n",
    "        if option == 3: #Option 3: MULTIPLICAÇÃO DE 2 NÚMEROS\n",
    "            print(f'{n1} x {n2} = {n1 * n2}')\n",
    "            \n",
    "        if option == 4: #Option 4: DIVISÃO DE 2 NÚMEROS\n",
    "            try:\n",
    "                div = n1 / n2\n",
    "            except(ZeroDivisionError):\n",
    "                print('\\033[1;31mOperação proibida! Você tentou dividir um número por zero!\\033[m')\n",
    "            else:\n",
    "                print(f'{n1} : {n2} = {div}')\n",
    "                \n",
    "    elif (option == 5) or (option == 6):\n",
    "    #Leitura dos números a depender da operação escolhida pelo usuário\n",
    "        n1 = readInt('Digite um número inteiro: ')\n",
    "        sleep(0.3)\n",
    "        print('Calculando...')\n",
    "        \n",
    "        if option == 5: #Option 5: Fatorial de um número inteiro\n",
    "            fatorial = 1\n",
    "            if n1 == 0:\n",
    "                print(f'{n1}! = 1')\n",
    "            else:\n",
    "                for i in range(n1,0,-1):\n",
    "                    fatorial = fatorial * i\n",
    "                print(f'{n1}! = {fatorial}')\n",
    "        \n",
    "        if option == 6: #Option 6: Raíz quadrada de número inteiro positivo\n",
    "            try:\n",
    "                print(f'Raíz quadrada de {n1} = {math.sqrt(n1)}')\n",
    "            except(ValueError):\n",
    "                print('\\033[1;31mNão calculamos a raíz quadrada de números negativos nesta calculadora!\\033[m')\n",
    "    \n",
    "    elif (option == 7) or (option == 8):\n",
    "    #Leitura dos números a depender da operação escolhida pelo usuário\n",
    "        n1 = readFloat('Digite um ângulo em graus: ')\n",
    "        sleep(0.3)\n",
    "        print('Calculando...')\n",
    "        \n",
    "        if option == 7: #Option 7: SENO do ângulo digitado\n",
    "            seno = math.sin(math.radians(n1))\n",
    "            print(f'sen({n1}°) = {seno}')\n",
    "            \n",
    "        if option == 8: #Option 7: COSSENO do ângulo digitado\n",
    "            cosseno = math.cos(math.radians(n1))\n",
    "            print(f'sen({n1}°) = {cosseno}')\n",
    "        \n",
    "     \n",
    "    if option == 99: #Option 99: Sair do programa  \n",
    "        print('\\033[1;34mObrigada por utilizar a calculadora. Volte sempre!\\033[m')\n",
    "        break"
   ]
  },
  {
   "cell_type": "code",
   "execution_count": null,
   "id": "4f6497ad-28c7-4469-aadb-25afc5d4b50a",
   "metadata": {},
   "outputs": [],
   "source": []
  },
  {
   "cell_type": "code",
   "execution_count": null,
   "id": "13100a38-8b50-4a8d-9b25-9f89aed38e02",
   "metadata": {},
   "outputs": [],
   "source": []
  }
 ],
 "metadata": {
  "kernelspec": {
   "display_name": "Python 3",
   "language": "python",
   "name": "python3"
  },
  "language_info": {
   "codemirror_mode": {
    "name": "ipython",
    "version": 3
   },
   "file_extension": ".py",
   "mimetype": "text/x-python",
   "name": "python",
   "nbconvert_exporter": "python",
   "pygments_lexer": "ipython3",
   "version": "3.9.1"
  }
 },
 "nbformat": 4,
 "nbformat_minor": 5
}
