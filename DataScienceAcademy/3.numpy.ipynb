{
 "cells": [
  {
   "cell_type": "markdown",
   "id": "779d1163-f9e4-4582-930c-081b7d0dc543",
   "metadata": {},
   "source": [
    "### Noções iniciais sobre NUMPY"
   ]
  },
  {
   "cell_type": "code",
   "execution_count": null,
   "id": "b4a221f1-5ac4-4e10-9a23-7f709a39e74b",
   "metadata": {},
   "outputs": [],
   "source": [
    "import numpy as np"
   ]
  },
  {
   "cell_type": "markdown",
   "id": "6bc9f75e-564f-4c3a-9861-476642cc95b1",
   "metadata": {},
   "source": [
    "### Array:\n",
    "\n",
    "* É um conjunto de valores, todos do mesmo tipo, indexados por uma tupla de valores não-negativos."
   ]
  },
  {
   "cell_type": "code",
   "execution_count": null,
   "id": "a686dab6-f7a3-4a95-8d83-9ecb22fca464",
   "metadata": {},
   "outputs": [],
   "source": [
    "# Criando um array:\n",
    "\n",
    "vetor1 = np.array([0, 1, 2, 3, 4, 5, 6, 7, 8])\n",
    "print(vetor1)"
   ]
  },
  {
   "cell_type": "code",
   "execution_count": null,
   "id": "2f61f605-a4e9-40af-a6f9-74069bf9a1ff",
   "metadata": {},
   "outputs": [],
   "source": [
    "# Alguns métodos de um array:\n",
    "\n",
    "vetor1.cumsum() # Soma acumulada\n",
    "vetor1[2] # Imprime posição 2 do array\n",
    "vetor1[0] = 100 # Altera o elemento que está na posição 0\n",
    "print(vetor1)\n",
    "print(vetor1.shape) # Verifica o formato do array. Neste caso, é um vetor unidimensional e 9 posições."
   ]
  },
  {
   "cell_type": "markdown",
   "id": "70eb3f68-6cc7-457e-9d26-197cf8edff15",
   "metadata": {},
   "source": [
    "### Algumas funções Numpy:"
   ]
  },
  {
   "cell_type": "code",
   "execution_count": null,
   "id": "45b951b8-a677-4210-aee5-57faca7357c5",
   "metadata": {},
   "outputs": [],
   "source": [
    "# Função arange: Cria um vetor contendo uma PA. Parâmetros: start, stop, step\n",
    "\n",
    "vetor2 = np.arange(0, 4.5, 0.5)\n",
    "print(vetor2, vetor2.dtype)\n",
    "\n",
    "# Criação de array só com zeros\n",
    "print(np.zeros(10)) \n",
    "\n",
    "# Matriz preenchida com 1 nos elementos diagonais e zeros no restante das posições\n",
    "z = np.eye(3) \n",
    "print(z)\n",
    "\n",
    "# Matriz preenchida com elementos da diagonal. Restantes: 0\n",
    "d = np.diag(np.array([1, 2, 3, 4]))\n",
    "print(d)"
   ]
  },
  {
   "cell_type": "markdown",
   "id": "da586c89-f4ec-4416-8f61-e252883f4182",
   "metadata": {},
   "source": [
    "### Matrizes com Numpy:"
   ]
  },
  {
   "cell_type": "code",
   "execution_count": null,
   "id": "d73d52da-4e3c-44b9-8228-312e3caa82a7",
   "metadata": {},
   "outputs": [],
   "source": [
    "# Criando uma matriz:\n",
    "\n",
    "matriz = np.array([[1, 2, 3], [4, 5, 6]])\n",
    "print(matriz, matriz.shape) # Array bidimensional: 2 linhas e 3 colunas."
   ]
  },
  {
   "cell_type": "code",
   "execution_count": null,
   "id": "52c165d2-107a-4a94-a699-9843111f38d3",
   "metadata": {},
   "outputs": [],
   "source": [
    "# Criando uma matriz 2x3 só com valores iguais a 1:\n",
    "\n",
    "matriz2 = np.ones((2,3))\n",
    "print(matriz2)"
   ]
  },
  {
   "cell_type": "code",
   "execution_count": null,
   "id": "ccc0031d-55d0-42fe-85e4-ace16ed48437",
   "metadata": {},
   "outputs": [],
   "source": [
    "# Criando uma matriz a partir de uma lista de listas:\n",
    "\n",
    "lista = [[1,2,3], [3, 2, 1], [4, 5, 6]]\n",
    "matriz_lista = np.matrix(lista)\n",
    "print(matriz_lista, matriz_lista.size)\n",
    "\n",
    "# Imprimindo um elemento específico da lista (elemento da 3° linha e 2° coluna)\n",
    "print(matriz_lista[2,1]) "
   ]
  },
  {
   "cell_type": "code",
   "execution_count": null,
   "id": "9656f1d1-ec0e-4603-847e-ed303829d98f",
   "metadata": {},
   "outputs": [],
   "source": [
    "# Tipo de dados:\n",
    "\n",
    "# Ainda que sejam inteiros, forço a criar como float. Sem especificarmos, Python decide.\n",
    "y = np.array([1,2], dtype = np.float64) \n",
    "print(y, y.dtype)"
   ]
  },
  {
   "cell_type": "markdown",
   "id": "5113234b-e59f-43e9-a984-46173806f62d",
   "metadata": {},
   "source": [
    "### Método random do Numpy"
   ]
  },
  {
   "cell_type": "code",
   "execution_count": null,
   "id": "558637e9-3afe-46b7-bd2b-c273a2cb2f34",
   "metadata": {},
   "outputs": [],
   "source": [
    "# Gerando um array com 10 valores aleatórios:\n",
    "print(np.random.rand(10))"
   ]
  },
  {
   "cell_type": "code",
   "execution_count": null,
   "id": "b67c52ec-ae57-46d1-85f7-db9d3f0191b3",
   "metadata": {},
   "outputs": [],
   "source": [
    "import matplotlib.pyplot as plt\n",
    "\n",
    "grafico = plt.hist(np.random.rand(1000))\n",
    "plt.show(grafico)"
   ]
  },
  {
   "cell_type": "markdown",
   "id": "cf2b5f6a-b3b5-441e-ae87-5cb8de4007af",
   "metadata": {},
   "source": [
    "### Numpy com Estatística"
   ]
  },
  {
   "cell_type": "code",
   "execution_count": null,
   "id": "4220ca5d-ea6f-4301-8f39-cd9a744b2718",
   "metadata": {},
   "outputs": [],
   "source": [
    "A = np.array([15, 23, 63, 94, 75])\n",
    "\n",
    "# Calculando a média dos valores:\n",
    "np.mean(A)"
   ]
  },
  {
   "cell_type": "code",
   "execution_count": null,
   "id": "1743bc61-a981-484b-a8e8-28b1b85c9ae4",
   "metadata": {},
   "outputs": [],
   "source": [
    "# Calculando o desvio padrão:\n",
    "np.std(A)"
   ]
  },
  {
   "cell_type": "code",
   "execution_count": null,
   "id": "f0719fd2-ebd1-4dcd-aa6f-9f057d930ad5",
   "metadata": {},
   "outputs": [],
   "source": [
    "# Calculando a Variância: Medida de dispersão. O quão longe os valores se encontram do esperado.\n",
    "np.var(A)"
   ]
  },
  {
   "cell_type": "markdown",
   "id": "5bfa3e93-9127-4534-982d-1d725d06e808",
   "metadata": {},
   "source": [
    "### Slicing de arrays:"
   ]
  },
  {
   "cell_type": "code",
   "execution_count": null,
   "id": "00acc5ea-09d9-4882-95e1-a88b4a17a6f7",
   "metadata": {},
   "outputs": [],
   "source": [
    "a = np.diag(np.arange(3))\n",
    "print(a)"
   ]
  },
  {
   "cell_type": "code",
   "execution_count": null,
   "id": "e61886dd-5d22-49cc-9180-bdd2d3a5828a",
   "metadata": {},
   "outputs": [],
   "source": [
    "# Mostrando elemento da 2° linha e 2° coluna\n",
    "a[1,1]\n",
    "\n",
    "# Mostrar a linha inteira: (28 linha)\n",
    "a[1]"
   ]
  },
  {
   "cell_type": "code",
   "execution_count": null,
   "id": "a46f3535-6cc3-43c3-bbba-6cc9a61c9851",
   "metadata": {},
   "outputs": [],
   "source": [
    "b = np.arange(10) # Começando do 0 até o décimo elemento, com passo de 1\n",
    "print(b)\n",
    "print(b[2:9:3]) # Imprime o elemento de índice 2 até o elemento de índice 9, saltando de 3 em 3"
   ]
  },
  {
   "cell_type": "code",
   "execution_count": null,
   "id": "8a1eafb0-2a4a-483b-90b4-1c029b5045d4",
   "metadata": {},
   "outputs": [],
   "source": [
    "# Verificar se os arrays a e b são iguais:\n",
    "np.array_equal(a,b)"
   ]
  },
  {
   "cell_type": "code",
   "execution_count": null,
   "id": "82b9ae48-a4b9-4f6e-bc86-4d56c20ad2de",
   "metadata": {},
   "outputs": [],
   "source": [
    "# Copiar um array:\n",
    "C = b.flatten()\n",
    "print(C)"
   ]
  },
  {
   "cell_type": "code",
   "execution_count": null,
   "id": "52c44eb6-a0e1-4ba5-a741-721eaa97f405",
   "metadata": {},
   "outputs": [],
   "source": [
    "# Concatenar arrays:\n",
    "# np.concatenate(b,C, axis=0)"
   ]
  },
  {
   "cell_type": "code",
   "execution_count": null,
   "id": "006e25ce-87aa-4ca3-acd8-63873b2473bb",
   "metadata": {},
   "outputs": [],
   "source": []
  }
 ],
 "metadata": {
  "kernelspec": {
   "display_name": "Python 3",
   "language": "python",
   "name": "python3"
  },
  "language_info": {
   "codemirror_mode": {
    "name": "ipython",
    "version": 3
   },
   "file_extension": ".py",
   "mimetype": "text/x-python",
   "name": "python",
   "nbconvert_exporter": "python",
   "pygments_lexer": "ipython3",
   "version": "3.9.1"
  }
 },
 "nbformat": 4,
 "nbformat_minor": 5
}
