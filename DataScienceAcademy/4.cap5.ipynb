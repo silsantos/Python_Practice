{
 "cells": [
  {
   "cell_type": "markdown",
   "id": "00171e33-f8a1-4e2e-8684-353e039279bf",
   "metadata": {},
   "source": [
    "## Classes - First steps"
   ]
  },
  {
   "cell_type": "code",
   "execution_count": 6,
   "id": "e33fd476-42db-449d-9b1b-3cfbdda1f622",
   "metadata": {},
   "outputs": [],
   "source": [
    "# Criação da 1° classe:\n",
    "\n",
    "class Livros():\n",
    "    \n",
    "    # Criação do método construtor\n",
    "    def __init__(self, titulo, isbn):\n",
    "        self.titulo = titulo\n",
    "        self.isbn = isbn\n",
    "        print('Função construtora chamada para criar um objeto desta classe')\n",
    "    \n",
    "    # Segundo método da classe:\n",
    "    def imprime(self, titulo, isbn):\n",
    "        print(f'O livro criado possui o título: {titulo} e o ISNB: {isbn}.')\n",
    "    "
   ]
  },
  {
   "cell_type": "code",
   "execution_count": 7,
   "id": "99da364c-6795-49c0-93b0-53df0f72d135",
   "metadata": {},
   "outputs": [
    {
     "name": "stdout",
     "output_type": "stream",
     "text": [
      "Função construtora chamada para criar um objeto desta classe\n"
     ]
    }
   ],
   "source": [
    "#Criando o primeiro objeto da classe:\n",
    "livro1 = Livros('A menina que roubava livros', 224477)"
   ]
  },
  {
   "cell_type": "code",
   "execution_count": 8,
   "id": "e18d9b84-1641-4607-ab59-0fbf538cf39b",
   "metadata": {},
   "outputs": [
    {
     "data": {
      "text/plain": [
       "'A menina que roubava livros'"
      ]
     },
     "execution_count": 8,
     "metadata": {},
     "output_type": "execute_result"
    }
   ],
   "source": [
    "# Imprimindo as informações do 1° objeto criado:\n",
    "livro1.titulo"
   ]
  },
  {
   "cell_type": "code",
   "execution_count": 9,
   "id": "2fac8106-3392-410e-a577-894f7f0816a7",
   "metadata": {},
   "outputs": [
    {
     "name": "stdout",
     "output_type": "stream",
     "text": [
      "O livro criado possui o título: A menina que roubava livros e o ISNB: 224477.\n"
     ]
    }
   ],
   "source": [
    "# Usando o segundo método criado:\n",
    "livro1.imprime('A menina que roubava livros', 224477)"
   ]
  },
  {
   "cell_type": "code",
   "execution_count": 14,
   "id": "b8ad83ca-0fb7-4174-acb5-4720cd134edf",
   "metadata": {},
   "outputs": [],
   "source": [
    "# Criação da 2° classe:\n",
    "\n",
    "class Dogs():\n",
    "    \n",
    "    def __init__(self, breed):\n",
    "        self.breed = breed\n",
    "        print('Função construtora acionada')\n",
    "        "
   ]
  },
  {
   "cell_type": "code",
   "execution_count": 16,
   "id": "9b7e45d5-ebc5-48bc-892e-6bb2f1f7ba77",
   "metadata": {},
   "outputs": [
    {
     "name": "stdout",
     "output_type": "stream",
     "text": [
      "Função construtora acionada\n",
      "Função construtora acionada\n"
     ]
    }
   ],
   "source": [
    "# Criando instâncias, isto é, objetos específicos com seu atributo raça:\n",
    "\n",
    "Amora = Dogs(breed = 'Dachshund')\n",
    "Pepe = Dogs(breed = 'Vira-lata')"
   ]
  },
  {
   "cell_type": "code",
   "execution_count": 17,
   "id": "895bc0ba-1b87-46eb-8619-8457b75cc2cb",
   "metadata": {},
   "outputs": [
    {
     "data": {
      "text/plain": [
       "'Dachshund'"
      ]
     },
     "execution_count": 17,
     "metadata": {},
     "output_type": "execute_result"
    }
   ],
   "source": [
    "# Checking:\n",
    "\n",
    "Amora.breed"
   ]
  },
  {
   "cell_type": "code",
   "execution_count": null,
   "id": "c9163148-1808-4c58-8b8c-99b2f4978b51",
   "metadata": {},
   "outputs": [],
   "source": []
  }
 ],
 "metadata": {
  "kernelspec": {
   "display_name": "Python 3",
   "language": "python",
   "name": "python3"
  },
  "language_info": {
   "codemirror_mode": {
    "name": "ipython",
    "version": 3
   },
   "file_extension": ".py",
   "mimetype": "text/x-python",
   "name": "python",
   "nbconvert_exporter": "python",
   "pygments_lexer": "ipython3",
   "version": "3.9.1"
  }
 },
 "nbformat": 4,
 "nbformat_minor": 5
}
