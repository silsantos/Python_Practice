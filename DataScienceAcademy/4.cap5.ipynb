{
 "cells": [
  {
   "cell_type": "markdown",
   "id": "00171e33-f8a1-4e2e-8684-353e039279bf",
   "metadata": {},
   "source": [
    "## Classes - First steps"
   ]
  },
  {
   "cell_type": "code",
   "execution_count": 6,
   "id": "e33fd476-42db-449d-9b1b-3cfbdda1f622",
   "metadata": {},
   "outputs": [],
   "source": [
    "# Criação da 1° classe:\n",
    "\n",
    "class Livros():\n",
    "    \n",
    "    # Criação do método construtor\n",
    "    def __init__(self, titulo, isbn):\n",
    "        self.titulo = titulo\n",
    "        self.isbn = isbn\n",
    "        print('Função construtora chamada para criar um objeto desta classe')\n",
    "    \n",
    "    # Segundo método da classe:\n",
    "    def imprime(self, titulo, isbn):\n",
    "        print(f'O livro criado possui o título: {titulo} e o ISNB: {isbn}.')\n",
    "    "
   ]
  },
  {
   "cell_type": "code",
   "execution_count": 7,
   "id": "99da364c-6795-49c0-93b0-53df0f72d135",
   "metadata": {},
   "outputs": [
    {
     "name": "stdout",
     "output_type": "stream",
     "text": [
      "Função construtora chamada para criar um objeto desta classe\n"
     ]
    }
   ],
   "source": [
    "#Criando o primeiro objeto da classe:\n",
    "livro1 = Livros('A menina que roubava livros', 224477)"
   ]
  },
  {
   "cell_type": "code",
   "execution_count": 8,
   "id": "e18d9b84-1641-4607-ab59-0fbf538cf39b",
   "metadata": {},
   "outputs": [
    {
     "data": {
      "text/plain": [
       "'A menina que roubava livros'"
      ]
     },
     "execution_count": 8,
     "metadata": {},
     "output_type": "execute_result"
    }
   ],
   "source": [
    "# Imprimindo as informações do 1° objeto criado:\n",
    "livro1.titulo"
   ]
  },
  {
   "cell_type": "code",
   "execution_count": 9,
   "id": "2fac8106-3392-410e-a577-894f7f0816a7",
   "metadata": {},
   "outputs": [
    {
     "name": "stdout",
     "output_type": "stream",
     "text": [
      "O livro criado possui o título: A menina que roubava livros e o ISNB: 224477.\n"
     ]
    }
   ],
   "source": [
    "# Usando o segundo método criado:\n",
    "livro1.imprime('A menina que roubava livros', 224477)"
   ]
  },
  {
   "cell_type": "code",
   "execution_count": 14,
   "id": "b8ad83ca-0fb7-4174-acb5-4720cd134edf",
   "metadata": {},
   "outputs": [],
   "source": [
    "# Criação da 2° classe:\n",
    "\n",
    "class Dogs():\n",
    "    \n",
    "    def __init__(self, breed):\n",
    "        self.breed = breed\n",
    "        print('Função construtora acionada')\n",
    "        "
   ]
  },
  {
   "cell_type": "code",
   "execution_count": 16,
   "id": "9b7e45d5-ebc5-48bc-892e-6bb2f1f7ba77",
   "metadata": {},
   "outputs": [
    {
     "name": "stdout",
     "output_type": "stream",
     "text": [
      "Função construtora acionada\n",
      "Função construtora acionada\n"
     ]
    }
   ],
   "source": [
    "# Criando instâncias, isto é, objetos específicos com seu atributo raça:\n",
    "\n",
    "Amora = Dogs(breed = 'Dachshund')\n",
    "Pepe = Dogs(breed = 'Vira-lata')"
   ]
  },
  {
   "cell_type": "code",
   "execution_count": 17,
   "id": "895bc0ba-1b87-46eb-8619-8457b75cc2cb",
   "metadata": {},
   "outputs": [
    {
     "data": {
      "text/plain": [
       "'Dachshund'"
      ]
     },
     "execution_count": 17,
     "metadata": {},
     "output_type": "execute_result"
    }
   ],
   "source": [
    "# Checking:\n",
    "\n",
    "Amora.breed"
   ]
  },
  {
   "cell_type": "markdown",
   "id": "7cb6bd36-428d-4f81-8281-9ceaf88ce0c6",
   "metadata": {},
   "source": [
    "## Métodos"
   ]
  },
  {
   "cell_type": "code",
   "execution_count": 6,
   "id": "4d3f54ee-63cb-47e6-8631-ebfcda6ca152",
   "metadata": {},
   "outputs": [],
   "source": [
    "# Criando uma nova classe:\n",
    "\n",
    "class Circle():\n",
    "    \n",
    "    pi = 3.14 # Fixing pi\n",
    "    \n",
    "    def __init__(self, raio = 5): # Standard radius = 5\n",
    "        self.raio = raio\n",
    "        \n",
    "   # Método para incluir novo raio:\n",
    "    def setRaio(self, new_raio):\n",
    "        self.raio = new_raio\n",
    "        \n",
    "    \n",
    "    # Método para calcular a área:\n",
    "    def area(self):\n",
    "        return Circle.pi * (self.raio * self.raio)\n",
    "    \n",
    "    \n",
    "    # Método par mostrar o raio que está sendo usado:\n",
    "    def getRaio(self):\n",
    "        print(f'O raio que está sendo usado é: {self.raio}')\n",
    "        \n",
    "        "
   ]
  },
  {
   "cell_type": "code",
   "execution_count": 7,
   "id": "a86c445b-8095-4931-942c-ab83110c8fb2",
   "metadata": {},
   "outputs": [],
   "source": [
    "# Creating a new object:\n",
    "circ1 = Circle()"
   ]
  },
  {
   "cell_type": "code",
   "execution_count": 8,
   "id": "8fd7d2b1-afa3-40b2-8dc5-f6a92412d4fd",
   "metadata": {},
   "outputs": [
    {
     "name": "stdout",
     "output_type": "stream",
     "text": [
      "O raio que está sendo usado é: 5\n"
     ]
    }
   ],
   "source": [
    "# Printing the standart radius:\n",
    "circ1.getRaio()"
   ]
  },
  {
   "cell_type": "code",
   "execution_count": 9,
   "id": "aa0e40a9-01cd-464e-828a-ce041ac88556",
   "metadata": {},
   "outputs": [],
   "source": [
    "# Setting a new radius:\n",
    "circ1.setRaio(4)"
   ]
  },
  {
   "cell_type": "code",
   "execution_count": 10,
   "id": "71d1143e-20df-4f2c-a2d2-e0a69868cb02",
   "metadata": {},
   "outputs": [
    {
     "name": "stdout",
     "output_type": "stream",
     "text": [
      "O raio que está sendo usado é: 4\n"
     ]
    }
   ],
   "source": [
    "# Checking the new radius:\n",
    "circ1.getRaio()"
   ]
  },
  {
   "cell_type": "code",
   "execution_count": 11,
   "id": "0115bfe7-5f8a-4d97-a551-86507842c40a",
   "metadata": {},
   "outputs": [
    {
     "data": {
      "text/plain": [
       "50.24"
      ]
     },
     "execution_count": 11,
     "metadata": {},
     "output_type": "execute_result"
    }
   ],
   "source": [
    "# Calculating the area:\n",
    "circ1.area()"
   ]
  },
  {
   "cell_type": "markdown",
   "id": "37af7573-6ded-491b-bc6e-b695018c7cfc",
   "metadata": {},
   "source": [
    "## Herança"
   ]
  },
  {
   "cell_type": "code",
   "execution_count": 12,
   "id": "6f2980fe-c6a1-49bb-b922-04a72ea70dba",
   "metadata": {},
   "outputs": [],
   "source": [
    "# Criando uma superclasse - Classe Animal\n",
    "class Animal():\n",
    "    \n",
    "    def __init__(self):\n",
    "        print('Animal criado')\n",
    "        \n",
    "    \n",
    "    # 1° método:\n",
    "    def identif(self):\n",
    "        print('Este objeto é um animal')\n",
    "        \n",
    "    # 2° método:\n",
    "    def comer(self):\n",
    "        print('Este animal come')"
   ]
  },
  {
   "cell_type": "code",
   "execution_count": 13,
   "id": "b9b4e6a5-960b-487c-8a09-b73b7eeff5a1",
   "metadata": {},
   "outputs": [],
   "source": [
    "# Criando uma subclasse - Classe Cachorro\n",
    "class Cachorro(Animal):\n",
    "    \n",
    "    def __init__(self):\n",
    "        Animal.__init__(self)\n",
    "        print('Animal cachorro criado')\n",
    "        \n",
    "    \n",
    "    # 1° método:\n",
    "    def id(self):\n",
    "        Animal.identif(self)\n",
    "        print('Este animal é um cachorro')\n",
    "        \n",
    "    \n",
    "    # 2° método:\n",
    "    def comida(self):\n",
    "        Animal.comer(self)\n",
    "        print('Seu tipo de comida é a ração')\n",
    "        \n",
    "        \n",
    "    # 3° método:\n",
    "    def latir(self):\n",
    "        print('Au Au')"
   ]
  },
  {
   "cell_type": "code",
   "execution_count": 14,
   "id": "619792ac-052b-41cd-bbbb-95a3b5b9eec9",
   "metadata": {},
   "outputs": [
    {
     "name": "stdout",
     "output_type": "stream",
     "text": [
      "Animal criado\n",
      "Animal cachorro criado\n"
     ]
    }
   ],
   "source": [
    "Amora = Cachorro()"
   ]
  },
  {
   "cell_type": "code",
   "execution_count": 16,
   "id": "7c005943-2060-4364-9671-9ba30dca56ae",
   "metadata": {},
   "outputs": [
    {
     "name": "stdout",
     "output_type": "stream",
     "text": [
      "Este objeto é um animal\n",
      "Este animal é um cachorro\n"
     ]
    }
   ],
   "source": [
    "Amora.id()"
   ]
  },
  {
   "cell_type": "code",
   "execution_count": 17,
   "id": "b3aecb1c-d029-44f8-aa10-bb93b3a0ed22",
   "metadata": {},
   "outputs": [
    {
     "name": "stdout",
     "output_type": "stream",
     "text": [
      "Este animal come\n",
      "Seu tipo de comida é a ração\n"
     ]
    }
   ],
   "source": [
    "Amora.comida()"
   ]
  },
  {
   "cell_type": "code",
   "execution_count": 18,
   "id": "17491f25-5632-40e9-9a84-819ce65a2ef7",
   "metadata": {},
   "outputs": [
    {
     "name": "stdout",
     "output_type": "stream",
     "text": [
      "Au Au\n"
     ]
    }
   ],
   "source": [
    "Amora.latir()"
   ]
  }
 ],
 "metadata": {
  "kernelspec": {
   "display_name": "Python 3",
   "language": "python",
   "name": "python3"
  },
  "language_info": {
   "codemirror_mode": {
    "name": "ipython",
    "version": 3
   },
   "file_extension": ".py",
   "mimetype": "text/x-python",
   "name": "python",
   "nbconvert_exporter": "python",
   "pygments_lexer": "ipython3",
   "version": "3.9.1"
  }
 },
 "nbformat": 4,
 "nbformat_minor": 5
}
