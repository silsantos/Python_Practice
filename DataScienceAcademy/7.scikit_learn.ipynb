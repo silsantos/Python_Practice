{
 "cells": [
  {
   "cell_type": "markdown",
   "id": "762034dc-d657-4988-bfd6-e53fd38bc21f",
   "metadata": {},
   "source": [
    "### Scikit Learn: Previsão do preço da pizza"
   ]
  },
  {
   "cell_type": "markdown",
   "id": "0a8b7f4c-d756-4f66-8ea7-10b27f1bb4b9",
   "metadata": {},
   "source": [
    "#### Suponha que seja necessário prever o preço das pizzas de uma determinada empresa.\n",
    "\n",
    "> Usaremos o modelo de regressão linear para realizar a tarefa.\n",
    "\n",
    "> O modelo será baseado no tamanho da pizza (seu diâmetro) e seu preço, dado o tamanho."
   ]
  },
  {
   "cell_type": "code",
   "execution_count": 1,
   "id": "fcf75970-d1e3-4819-911b-a723f67a85b3",
   "metadata": {},
   "outputs": [],
   "source": [
    "import matplotlib.pyplot as plt\n",
    "import numpy as np"
   ]
  },
  {
   "cell_type": "markdown",
   "id": "4d6be8d2-02b2-4827-9cb4-8262b968eac8",
   "metadata": {},
   "source": [
    "#### Suponha que haja o registro dos tamanhos e preços das pizzas compradas por uma família, conforme segue abaixo:"
   ]
  },
  {
   "cell_type": "code",
   "execution_count": 2,
   "id": "0d872271-102e-4d5f-aff0-cbfb841323fd",
   "metadata": {},
   "outputs": [],
   "source": [
    "# Diâmetro, em cm:\n",
    "\n",
    "diametro = [[7], [10], [15], [30], [45]]\n",
    "\n",
    "# Preços, em reais:\n",
    "\n",
    "preco = [[8], [11], [16], [38.5], [52]]"
   ]
  },
  {
   "cell_type": "markdown",
   "id": "f83e6ea4-9cbd-4fa0-9311-d76c6124cd71",
   "metadata": {},
   "source": [
    "#### Visualização dos dados em um gráfico:"
   ]
  },
  {
   "cell_type": "code",
   "execution_count": 3,
   "id": "04cd3dc6-7911-480b-86df-2db6e1e5a4e3",
   "metadata": {},
   "outputs": [
    {
     "data": {
      "image/png": "[encoded data removed]",
      "text/plain": [
       "<Figure size 432x288 with 1 Axes>"
      ]
     },
     "metadata": {
      "needs_background": "light"
     },
     "output_type": "display_data"
    }
   ],
   "source": [
    "plt.figure()\n",
    "plt.xlabel('Diâmetro (cm)')\n",
    "plt.ylabel('Preço (R$)')\n",
    "plt.title('Diâmetro x Preço')\n",
    "plt.plot(diametro, preco, 'k.')\n",
    "plt.axis([0, 60, 0, 60])\n",
    "plt.grid(True)\n",
    "plt.show()"
   ]
  },
  {
   "cell_type": "markdown",
   "id": "056836cf-d4dd-4d88-b101-f97fe6702ffc",
   "metadata": {},
   "source": [
    "#### O gráfico sugere que:\n",
    "\n",
    "* Existe uma relação positiva entre diâmetro e preço\n",
    "\n",
    "* Quanto maior o diâmetro, maior é o preço\n",
    "\n",
    "* Obs.: Podem existir outras causas para o aumento do preço"
   ]
  },
  {
   "cell_type": "code",
   "execution_count": 4,
   "id": "1f6a3731-62be-47e5-a9b6-f97f17dc1390",
   "metadata": {},
   "outputs": [],
   "source": [
    "from sklearn import linear_model"
   ]
  },
  {
   "cell_type": "code",
   "execution_count": 5,
   "id": "aed1a463-a62d-40ce-b61d-d895073f666f",
   "metadata": {},
   "outputs": [],
   "source": [
    "# Dados de treino, onde x = diâmetros da pizza e y =  preços:\n",
    "\n",
    "X = [[7], [10], [15], [30], [45]]\n",
    "\n",
    "Y = [[8], [11], [16], [38.5], [52]]"
   ]
  },
  {
   "cell_type": "code",
   "execution_count": 6,
   "id": "3c45a684-1ed4-4e21-95a4-c5e041915503",
   "metadata": {},
   "outputs": [],
   "source": [
    "# Criando o modelo:\n",
    "\n",
    "modelo = linear_model.LinearRegression()"
   ]
  },
  {
   "cell_type": "code",
   "execution_count": 7,
   "id": "a8675616-5e74-489a-a004-983a1cf65b4d",
   "metadata": {},
   "outputs": [
    {
     "data": {
      "text/plain": [
       "LinearRegression()"
      ]
     },
     "execution_count": 7,
     "metadata": {},
     "output_type": "execute_result"
    }
   ],
   "source": [
    "# Treinando o modelo:\n",
    "\n",
    "modelo.fit(X,Y)"
   ]
  },
  {
   "cell_type": "code",
   "execution_count": 11,
   "id": "a6179ffc-6556-4e59-9305-e3c943358807",
   "metadata": {},
   "outputs": [
    {
     "name": "stdout",
     "output_type": "stream",
     "text": [
      "Os valores previstos das pizzas com diâmetros de 20cm, 24cm e 60cm são, resperctivamente: R$[[23.41409037]\n",
      " [28.23097503]\n",
      " [71.58293698]] reais\n"
     ]
    }
   ],
   "source": [
    "# Prevendo os preços de pizzas de 20cm, 24cm e de 60cm de diâmetro:\n",
    "\n",
    "diametros_prev = ([20],[24],[60])\n",
    "valores_previstos = modelo.predict(diametros_prev)\n",
    "print(f'Os valores previstos das pizzas com diâmetros de 20cm, 24cm e 60cm são, resperctivamente: R${valores_previstos} reais')"
   ]
  },
  {
   "cell_type": "code",
   "execution_count": null,
   "id": "f3c988dc-0fe1-4914-9e40-b3bb8583ce0d",
   "metadata": {},
   "outputs": [],
   "source": []
  },
  {
   "cell_type": "code",
   "execution_count": null,
   "id": "be9449cb-aac4-485d-814b-afdf0cb5fb46",
   "metadata": {},
   "outputs": [],
   "source": []
  }
 ],
 "metadata": {
  "kernelspec": {
   "display_name": "Python 3",
   "language": "python",
   "name": "python3"
  },
  "language_info": {
   "codemirror_mode": {
    "name": "ipython",
    "version": 3
   },
   "file_extension": ".py",
   "mimetype": "text/x-python",
   "name": "python",
   "nbconvert_exporter": "python",
   "pygments_lexer": "ipython3",
   "version": "3.9.1"
  }
 },
 "nbformat": 4,
 "nbformat_minor": 5
}
