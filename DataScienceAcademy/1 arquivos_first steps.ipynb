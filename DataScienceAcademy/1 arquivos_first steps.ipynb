{
 "cells": [
  {
   "cell_type": "markdown",
   "id": "7a675290-bca9-4636-85ea-9829ea523603",
   "metadata": {},
   "source": [
    "# Lendo e gravando arquivos"
   ]
  },
  {
   "cell_type": "code",
   "execution_count": 1,
   "id": "79bd3c57-027c-4a26-9cf5-b8c5633369e9",
   "metadata": {},
   "outputs": [],
   "source": [
    "# Abrindo arquivos para leitura:\n",
    "arq1 = open(\"arquivo1.txt\",\"r\")"
   ]
  },
  {
   "cell_type": "code",
   "execution_count": 2,
   "id": "0fbba83e-e530-4a54-b94e-d5e560d9f851",
   "metadata": {},
   "outputs": [
    {
     "name": "stdout",
     "output_type": "stream",
     "text": [
      "Testando a gravação de arquivos em PythonPython é uma linguagem poderosa Python é uma linguagem poderosa\n"
     ]
    }
   ],
   "source": [
    "# Lendo o arquivo\n",
    "print(arq1.read())"
   ]
  },
  {
   "cell_type": "code",
   "execution_count": null,
   "id": "4649217b-c15f-4a76-8d71-5f834a8ce1bc",
   "metadata": {},
   "outputs": [],
   "source": [
    "# Contar o número de caracteres\n",
    "print(arq1.tell())"
   ]
  },
  {
   "cell_type": "code",
   "execution_count": null,
   "id": "02190413-fd7e-46ba-b84e-a6f778614efe",
   "metadata": {},
   "outputs": [],
   "source": [
    "# Ponto específico do arquivo\n",
    "print(arq1.seek(0,0))"
   ]
  },
  {
   "cell_type": "code",
   "execution_count": null,
   "id": "ec0d81e8-bc17-4af8-bf49-499dd4dd802f",
   "metadata": {},
   "outputs": [],
   "source": [
    "# Ler os primeiros x caracteres:\n",
    "print(arq1.read(10))"
   ]
  },
  {
   "cell_type": "code",
   "execution_count": null,
   "id": "5c81306d-14c0-44a2-b153-0f0d3cfaf028",
   "metadata": {},
   "outputs": [],
   "source": [
    "# Abrindo o mesmo arquivo, mas agora pra gravação\n",
    "arq2 = open('arquivo1.txt','w')"
   ]
  },
  {
   "cell_type": "code",
   "execution_count": null,
   "id": "ef514f86-3631-4635-a3e3-cbabb7ab9be9",
   "metadata": {},
   "outputs": [],
   "source": [
    "arq2.write('Testando a gravação de arquivos em Python')"
   ]
  },
  {
   "cell_type": "markdown",
   "id": "f0656701-894b-4962-97dd-ca21854ac0ad",
   "metadata": {},
   "source": [
    "arq2.close()"
   ]
  },
  {
   "cell_type": "code",
   "execution_count": null,
   "id": "4a89a20f-e73c-4b92-bd81-d4131604dbbd",
   "metadata": {},
   "outputs": [],
   "source": [
    "arq2 = open('arquivo1.txt', 'r')"
   ]
  },
  {
   "cell_type": "code",
   "execution_count": null,
   "id": "77096431-2c18-4063-9fd3-2ad7ce168333",
   "metadata": {},
   "outputs": [],
   "source": [
    "print(arq2.read())"
   ]
  },
  {
   "cell_type": "code",
   "execution_count": null,
   "id": "5ff1a074-0a6a-44e7-92f6-3b0e4db6e5a2",
   "metadata": {},
   "outputs": [],
   "source": [
    "arq2.close()"
   ]
  },
  {
   "cell_type": "code",
   "execution_count": null,
   "id": "2c6bce99-bd91-4773-8f6f-d167528def5f",
   "metadata": {},
   "outputs": [],
   "source": [
    "arq2 = open('arquivo1.txt', 'a')"
   ]
  },
  {
   "cell_type": "code",
   "execution_count": null,
   "id": "2c1169d4-1f81-43af-9002-79cdc0943df8",
   "metadata": {},
   "outputs": [],
   "source": [
    "arq2.write(' Python é uma linguagem poderosa')"
   ]
  },
  {
   "cell_type": "code",
   "execution_count": null,
   "id": "b3a0d0aa-6315-4875-84b2-4a35154b8e61",
   "metadata": {},
   "outputs": [],
   "source": [
    "arq2.close()"
   ]
  },
  {
   "cell_type": "code",
   "execution_count": null,
   "id": "a6f5328c-5b66-42b7-aee1-35df4f5fef51",
   "metadata": {},
   "outputs": [],
   "source": [
    "arq2 = open('arquivo1.txt','r')"
   ]
  },
  {
   "cell_type": "code",
   "execution_count": null,
   "id": "b4b799ef-2248-4b92-8464-af6c039c8077",
   "metadata": {},
   "outputs": [],
   "source": [
    "print(arq2.read())"
   ]
  },
  {
   "cell_type": "code",
   "execution_count": null,
   "id": "06c85ed7-60e4-4c30-822d-76a6ee9b7b99",
   "metadata": {},
   "outputs": [],
   "source": []
  }
 ],
 "metadata": {
  "kernelspec": {
   "display_name": "Python 3",
   "language": "python",
   "name": "python3"
  },
  "language_info": {
   "codemirror_mode": {
    "name": "ipython",
    "version": 3
   },
   "file_extension": ".py",
   "mimetype": "text/x-python",
   "name": "python",
   "nbconvert_exporter": "python",
   "pygments_lexer": "ipython3",
   "version": "3.9.1"
  }
 },
 "nbformat": 4,
 "nbformat_minor": 5
}
