{
 "cells": [
  {
   "cell_type": "markdown",
   "id": "e67b8880-b9aa-4d4d-952b-a1c4f770a057",
   "metadata": {},
   "source": [
    "# Manipulando datasets"
   ]
  },
  {
   "cell_type": "code",
   "execution_count": null,
   "id": "a5802f9b-49f6-42c9-9a23-cb3fc449f804",
   "metadata": {},
   "outputs": [],
   "source": [
    "f = open('salarios.csv','r')"
   ]
  },
  {
   "cell_type": "code",
   "execution_count": null,
   "id": "3d1034c4-de34-4b16-96af-cef88b92c02c",
   "metadata": {},
   "outputs": [],
   "source": [
    "data = f.read()"
   ]
  },
  {
   "cell_type": "code",
   "execution_count": null,
   "id": "1d484138-8f7b-4930-bf67-d9be0a5cd1dd",
   "metadata": {},
   "outputs": [],
   "source": [
    "rows = data.split('\\n')"
   ]
  },
  {
   "cell_type": "code",
   "execution_count": null,
   "id": "771b93d0-5a79-4d13-bae7-e85d64a9658a",
   "metadata": {},
   "outputs": [],
   "source": [
    "full_data = []\n",
    "for row in rows:\n",
    "    split_row = row.split(',')\n",
    "    full_data.append(split_row)\n",
    "print(full_data)"
   ]
  },
  {
   "cell_type": "markdown",
   "id": "858e786c-1120-4079-a760-b9a07b7bea1f",
   "metadata": {},
   "source": [
    "# Gerando arquivos pelo Jupyter"
   ]
  },
  {
   "cell_type": "code",
   "execution_count": 3,
   "id": "f908dd36-7303-472a-a514-6cfff88688c8",
   "metadata": {},
   "outputs": [
    {
     "name": "stdout",
     "output_type": "stream",
     "text": [
      "Writing teste.txt\n"
     ]
    }
   ],
   "source": [
    "%%writefile teste.txt\n",
    "Este arquivo eh um teste e foi gerado pelo proprio Jupyter"
   ]
  },
  {
   "cell_type": "code",
   "execution_count": 4,
   "id": "0d80c1d8-69d5-4f0b-ae9d-bfca48986e24",
   "metadata": {},
   "outputs": [],
   "source": [
    "arq4 = open('teste.txt', 'r')"
   ]
  },
  {
   "cell_type": "code",
   "execution_count": 5,
   "id": "9814d98a-d3c9-4903-8d5b-9738ef0c746d",
   "metadata": {},
   "outputs": [
    {
     "name": "stdout",
     "output_type": "stream",
     "text": [
      "Este arquivo eh um teste e foi gerado pelo proprio Jupyter\n",
      "\n"
     ]
    }
   ],
   "source": [
    "print(arq4.read())"
   ]
  },
  {
   "cell_type": "code",
   "execution_count": null,
   "id": "a2b4143a-e1bd-4360-aa06-7a4c84b28b32",
   "metadata": {},
   "outputs": [],
   "source": []
  }
 ],
 "metadata": {
  "kernelspec": {
   "display_name": "Python 3",
   "language": "python",
   "name": "python3"
  },
  "language_info": {
   "codemirror_mode": {
    "name": "ipython",
    "version": 3
   },
   "file_extension": ".py",
   "mimetype": "text/x-python",
   "name": "python",
   "nbconvert_exporter": "python",
   "pygments_lexer": "ipython3",
   "version": "3.9.1"
  }
 },
 "nbformat": 4,
 "nbformat_minor": 5
}
