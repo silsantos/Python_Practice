{
 "cells": [
  {
   "cell_type": "markdown",
   "id": "68b3448e-af1e-4569-9ddc-e29d1fe102cc",
   "metadata": {},
   "source": [
    "### Criando um Dataframe"
   ]
  },
  {
   "cell_type": "code",
   "execution_count": 1,
   "id": "fb907df7-7e38-4154-8bfa-d9f2f5128c6c",
   "metadata": {},
   "outputs": [],
   "source": [
    "import pandas as pd\n",
    "import numpy as np"
   ]
  },
  {
   "cell_type": "code",
   "execution_count": 2,
   "id": "0cd82668-86a7-4541-81cd-5484645af29f",
   "metadata": {},
   "outputs": [
    {
     "data": {
      "text/html": [
       "<div>\n",
       "<style scoped>\n",
       "    .dataframe tbody tr th:only-of-type {\n",
       "        vertical-align: middle;\n",
       "    }\n",
       "\n",
       "    .dataframe tbody tr th {\n",
       "        vertical-align: top;\n",
       "    }\n",
       "\n",
       "    .dataframe thead th {\n",
       "        text-align: right;\n",
       "    }\n",
       "</style>\n",
       "<table border=\"1\" class=\"dataframe\">\n",
       "  <thead>\n",
       "    <tr style=\"text-align: right;\">\n",
       "      <th></th>\n",
       "      <th>Estado</th>\n",
       "      <th>Ano</th>\n",
       "      <th>População</th>\n",
       "    </tr>\n",
       "  </thead>\n",
       "  <tbody>\n",
       "    <tr>\n",
       "      <th>0</th>\n",
       "      <td>Paraná</td>\n",
       "      <td>2002</td>\n",
       "      <td>1.5</td>\n",
       "    </tr>\n",
       "    <tr>\n",
       "      <th>1</th>\n",
       "      <td>Santa Catarina</td>\n",
       "      <td>2009</td>\n",
       "      <td>1.7</td>\n",
       "    </tr>\n",
       "    <tr>\n",
       "      <th>2</th>\n",
       "      <td>Rio Grande do Sul</td>\n",
       "      <td>2021</td>\n",
       "      <td>3.6</td>\n",
       "    </tr>\n",
       "  </tbody>\n",
       "</table>\n",
       "</div>"
      ],
      "text/plain": [
       "              Estado   Ano  População\n",
       "0             Paraná  2002        1.5\n",
       "1     Santa Catarina  2009        1.7\n",
       "2  Rio Grande do Sul  2021        3.6"
      ]
     },
     "metadata": {},
     "output_type": "display_data"
    }
   ],
   "source": [
    "# Criando um dicionário:\n",
    "data = {'Estado': ['Paraná','Santa Catarina','Rio Grande do Sul'], 'Ano':[2002,2009,2021], 'População':[1.5,1.7,3.6]}\n",
    "\n",
    "#Criando um dataframe a partir do dicionário:\n",
    "frame = pd.DataFrame(data)\n",
    "display(frame)"
   ]
  },
  {
   "cell_type": "markdown",
   "id": "a0316752-99f2-48c1-ae0d-45087ea71a40",
   "metadata": {},
   "source": [
    "### Se o nome das colunas não estivesse definido, para definir:\n",
    "* DataFrame(data, columns=['Estado', 'Ano', 'População'])"
   ]
  },
  {
   "cell_type": "code",
   "execution_count": 3,
   "id": "aaf35892-418b-4228-8c21-5baa74643ad5",
   "metadata": {},
   "outputs": [
    {
     "data": {
      "text/html": [
       "<div>\n",
       "<style scoped>\n",
       "    .dataframe tbody tr th:only-of-type {\n",
       "        vertical-align: middle;\n",
       "    }\n",
       "\n",
       "    .dataframe tbody tr th {\n",
       "        vertical-align: top;\n",
       "    }\n",
       "\n",
       "    .dataframe thead th {\n",
       "        text-align: right;\n",
       "    }\n",
       "</style>\n",
       "<table border=\"1\" class=\"dataframe\">\n",
       "  <thead>\n",
       "    <tr style=\"text-align: right;\">\n",
       "      <th></th>\n",
       "      <th>Estado</th>\n",
       "      <th>Ano</th>\n",
       "      <th>População</th>\n",
       "      <th>Débito</th>\n",
       "    </tr>\n",
       "  </thead>\n",
       "  <tbody>\n",
       "    <tr>\n",
       "      <th>um</th>\n",
       "      <td>Paraná</td>\n",
       "      <td>2002</td>\n",
       "      <td>1.5</td>\n",
       "      <td>NaN</td>\n",
       "    </tr>\n",
       "    <tr>\n",
       "      <th>dois</th>\n",
       "      <td>Santa Catarina</td>\n",
       "      <td>2009</td>\n",
       "      <td>1.7</td>\n",
       "      <td>NaN</td>\n",
       "    </tr>\n",
       "    <tr>\n",
       "      <th>três</th>\n",
       "      <td>Rio Grande do Sul</td>\n",
       "      <td>2021</td>\n",
       "      <td>3.6</td>\n",
       "      <td>NaN</td>\n",
       "    </tr>\n",
       "  </tbody>\n",
       "</table>\n",
       "</div>"
      ],
      "text/plain": [
       "                 Estado   Ano  População Débito\n",
       "um               Paraná  2002        1.5    NaN\n",
       "dois     Santa Catarina  2009        1.7    NaN\n",
       "três  Rio Grande do Sul  2021        3.6    NaN"
      ]
     },
     "metadata": {},
     "output_type": "display_data"
    }
   ],
   "source": [
    "# Criando outro dataframe com os mesmos dados anteriores, mas adicionando uma coluna e indexes:\n",
    "\n",
    "frame2 = pd.DataFrame(data, columns=['Estado', 'Ano', 'População', 'Débito'], index = ['um', 'dois', 'três'])\n",
    "display(frame2)"
   ]
  },
  {
   "cell_type": "code",
   "execution_count": 4,
   "id": "b71a4825-fb17-4d69-8ab7-2ed3d7b01a62",
   "metadata": {},
   "outputs": [
    {
     "data": {
      "text/html": [
       "<div>\n",
       "<style scoped>\n",
       "    .dataframe tbody tr th:only-of-type {\n",
       "        vertical-align: middle;\n",
       "    }\n",
       "\n",
       "    .dataframe tbody tr th {\n",
       "        vertical-align: top;\n",
       "    }\n",
       "\n",
       "    .dataframe thead th {\n",
       "        text-align: right;\n",
       "    }\n",
       "</style>\n",
       "<table border=\"1\" class=\"dataframe\">\n",
       "  <thead>\n",
       "    <tr style=\"text-align: right;\">\n",
       "      <th></th>\n",
       "      <th>Estado</th>\n",
       "      <th>Ano</th>\n",
       "      <th>População</th>\n",
       "      <th>Débito</th>\n",
       "    </tr>\n",
       "  </thead>\n",
       "  <tbody>\n",
       "    <tr>\n",
       "      <th>um</th>\n",
       "      <td>Paraná</td>\n",
       "      <td>2002</td>\n",
       "      <td>1.5</td>\n",
       "      <td>NaN</td>\n",
       "    </tr>\n",
       "    <tr>\n",
       "      <th>dois</th>\n",
       "      <td>Santa Catarina</td>\n",
       "      <td>2009</td>\n",
       "      <td>1.7</td>\n",
       "      <td>NaN</td>\n",
       "    </tr>\n",
       "  </tbody>\n",
       "</table>\n",
       "</div>"
      ],
      "text/plain": [
       "              Estado   Ano  População Débito\n",
       "um            Paraná  2002        1.5    NaN\n",
       "dois  Santa Catarina  2009        1.7    NaN"
      ]
     },
     "execution_count": 4,
     "metadata": {},
     "output_type": "execute_result"
    }
   ],
   "source": [
    "# Testando slices:\n",
    "\n",
    "frame2[:2] # Mostra tudo das linhas 0 e 1\n",
    "frame2['Ano'][1] # Mostra apenas a informação da coluna Ano que está na linha 2 (posição 1)\n",
    "frame2['um':'dois'] # Mostrará as linhas dos índices 'um' até o índice 'dois'"
   ]
  },
  {
   "cell_type": "code",
   "execution_count": 5,
   "id": "0ad0fd62-9ac9-49cc-95f7-31b1d7090a9e",
   "metadata": {},
   "outputs": [
    {
     "data": {
      "text/plain": [
       "2002"
      ]
     },
     "execution_count": 5,
     "metadata": {},
     "output_type": "execute_result"
    }
   ],
   "source": [
    "# loc: Mostra que será inserido o NOME de um índice (linha). Especifica-se a coluna (se deixar sem especificar, mostra todas)\n",
    "frame2.loc['um']['Ano']"
   ]
  },
  {
   "cell_type": "code",
   "execution_count": 6,
   "id": "16593eb7-e673-4b76-aa15-67e06e9a78f5",
   "metadata": {},
   "outputs": [
    {
     "data": {
      "text/plain": [
       "2009"
      ]
     },
     "execution_count": 6,
     "metadata": {},
     "output_type": "execute_result"
    }
   ],
   "source": [
    "# iloc: Mostra que será inserido o índice numérico (independentemente do seu nome)\n",
    "frame2.iloc[1]['Ano']"
   ]
  },
  {
   "cell_type": "code",
   "execution_count": 7,
   "id": "99afdd42-1310-47c8-82b4-a1d749acfc40",
   "metadata": {},
   "outputs": [
    {
     "data": {
      "text/html": [
       "<div>\n",
       "<style scoped>\n",
       "    .dataframe tbody tr th:only-of-type {\n",
       "        vertical-align: middle;\n",
       "    }\n",
       "\n",
       "    .dataframe tbody tr th {\n",
       "        vertical-align: top;\n",
       "    }\n",
       "\n",
       "    .dataframe thead th {\n",
       "        text-align: right;\n",
       "    }\n",
       "</style>\n",
       "<table border=\"1\" class=\"dataframe\">\n",
       "  <thead>\n",
       "    <tr style=\"text-align: right;\">\n",
       "      <th></th>\n",
       "      <th>Estado</th>\n",
       "      <th>Ano</th>\n",
       "      <th>População</th>\n",
       "      <th>Débito</th>\n",
       "    </tr>\n",
       "  </thead>\n",
       "  <tbody>\n",
       "    <tr>\n",
       "      <th>um</th>\n",
       "      <td>Paraná</td>\n",
       "      <td>2002</td>\n",
       "      <td>1.5</td>\n",
       "      <td>10</td>\n",
       "    </tr>\n",
       "    <tr>\n",
       "      <th>dois</th>\n",
       "      <td>Santa Catarina</td>\n",
       "      <td>2009</td>\n",
       "      <td>1.7</td>\n",
       "      <td>11</td>\n",
       "    </tr>\n",
       "    <tr>\n",
       "      <th>três</th>\n",
       "      <td>Rio Grande do Sul</td>\n",
       "      <td>2021</td>\n",
       "      <td>3.6</td>\n",
       "      <td>12</td>\n",
       "    </tr>\n",
       "  </tbody>\n",
       "</table>\n",
       "</div>"
      ],
      "text/plain": [
       "                 Estado   Ano  População  Débito\n",
       "um               Paraná  2002        1.5      10\n",
       "dois     Santa Catarina  2009        1.7      11\n",
       "três  Rio Grande do Sul  2021        3.6      12"
      ]
     },
     "metadata": {},
     "output_type": "display_data"
    }
   ],
   "source": [
    "# Preenchendo a coluna DÉBITO:\n",
    "\n",
    "frame2['Débito'] = np.arange(10,13)\n",
    "display(frame2)"
   ]
  },
  {
   "cell_type": "code",
   "execution_count": 8,
   "id": "46aa329b-bc2c-470e-b247-25d8ebf58067",
   "metadata": {},
   "outputs": [
    {
     "data": {
      "text/html": [
       "<div>\n",
       "<style scoped>\n",
       "    .dataframe tbody tr th:only-of-type {\n",
       "        vertical-align: middle;\n",
       "    }\n",
       "\n",
       "    .dataframe tbody tr th {\n",
       "        vertical-align: top;\n",
       "    }\n",
       "\n",
       "    .dataframe thead th {\n",
       "        text-align: right;\n",
       "    }\n",
       "</style>\n",
       "<table border=\"1\" class=\"dataframe\">\n",
       "  <thead>\n",
       "    <tr style=\"text-align: right;\">\n",
       "      <th></th>\n",
       "      <th>Ano</th>\n",
       "      <th>População</th>\n",
       "      <th>Débito</th>\n",
       "    </tr>\n",
       "  </thead>\n",
       "  <tbody>\n",
       "    <tr>\n",
       "      <th>count</th>\n",
       "      <td>3.000000</td>\n",
       "      <td>3.000000</td>\n",
       "      <td>3.0</td>\n",
       "    </tr>\n",
       "    <tr>\n",
       "      <th>mean</th>\n",
       "      <td>2010.666667</td>\n",
       "      <td>2.266667</td>\n",
       "      <td>11.0</td>\n",
       "    </tr>\n",
       "    <tr>\n",
       "      <th>std</th>\n",
       "      <td>9.609024</td>\n",
       "      <td>1.159023</td>\n",
       "      <td>1.0</td>\n",
       "    </tr>\n",
       "    <tr>\n",
       "      <th>min</th>\n",
       "      <td>2002.000000</td>\n",
       "      <td>1.500000</td>\n",
       "      <td>10.0</td>\n",
       "    </tr>\n",
       "    <tr>\n",
       "      <th>25%</th>\n",
       "      <td>2005.500000</td>\n",
       "      <td>1.600000</td>\n",
       "      <td>10.5</td>\n",
       "    </tr>\n",
       "    <tr>\n",
       "      <th>50%</th>\n",
       "      <td>2009.000000</td>\n",
       "      <td>1.700000</td>\n",
       "      <td>11.0</td>\n",
       "    </tr>\n",
       "    <tr>\n",
       "      <th>75%</th>\n",
       "      <td>2015.000000</td>\n",
       "      <td>2.650000</td>\n",
       "      <td>11.5</td>\n",
       "    </tr>\n",
       "    <tr>\n",
       "      <th>max</th>\n",
       "      <td>2021.000000</td>\n",
       "      <td>3.600000</td>\n",
       "      <td>12.0</td>\n",
       "    </tr>\n",
       "  </tbody>\n",
       "</table>\n",
       "</div>"
      ],
      "text/plain": [
       "               Ano  População  Débito\n",
       "count     3.000000   3.000000     3.0\n",
       "mean   2010.666667   2.266667    11.0\n",
       "std       9.609024   1.159023     1.0\n",
       "min    2002.000000   1.500000    10.0\n",
       "25%    2005.500000   1.600000    10.5\n",
       "50%    2009.000000   1.700000    11.0\n",
       "75%    2015.000000   2.650000    11.5\n",
       "max    2021.000000   3.600000    12.0"
      ]
     },
     "execution_count": 8,
     "metadata": {},
     "output_type": "execute_result"
    }
   ],
   "source": [
    "# Descrever os dados: quantidade, méddia, desvio padrão, valor mínimo, máximo e os percentis\n",
    "frame2.describe()"
   ]
  },
  {
   "cell_type": "code",
   "execution_count": null,
   "id": "6996ff77-f9b9-44b9-9b77-8e431a8ca456",
   "metadata": {},
   "outputs": [],
   "source": [
    "# É possível transformar uma coluna em índice:\n",
    "\n",
    "# nomedoframe.set_index('nome da coluna')"
   ]
  },
  {
   "cell_type": "markdown",
   "id": "082544d9-9fee-4e1c-a153-8e248db88294",
   "metadata": {},
   "source": [
    "### Importando arquivo csv com Pandas"
   ]
  },
  {
   "cell_type": "code",
   "execution_count": 9,
   "id": "47eaee21-e555-4463-b739-221a5c2683f9",
   "metadata": {},
   "outputs": [
    {
     "data": {
      "text/html": [
       "<div>\n",
       "<style scoped>\n",
       "    .dataframe tbody tr th:only-of-type {\n",
       "        vertical-align: middle;\n",
       "    }\n",
       "\n",
       "    .dataframe tbody tr th {\n",
       "        vertical-align: top;\n",
       "    }\n",
       "\n",
       "    .dataframe thead th {\n",
       "        text-align: right;\n",
       "    }\n",
       "</style>\n",
       "<table border=\"1\" class=\"dataframe\">\n",
       "  <thead>\n",
       "    <tr style=\"text-align: right;\">\n",
       "      <th></th>\n",
       "      <th>Name</th>\n",
       "      <th>Position Title</th>\n",
       "      <th>Department</th>\n",
       "      <th>Employee Annual Salary</th>\n",
       "    </tr>\n",
       "  </thead>\n",
       "  <tbody>\n",
       "    <tr>\n",
       "      <th>0</th>\n",
       "      <td>AARON,  ELVIA J</td>\n",
       "      <td>WATER RATE TAKER</td>\n",
       "      <td>WATER MGMNT</td>\n",
       "      <td>$88967.00</td>\n",
       "    </tr>\n",
       "    <tr>\n",
       "      <th>1</th>\n",
       "      <td>AARON,  JEFFERY M</td>\n",
       "      <td>POLICE OFFICER</td>\n",
       "      <td>POLICE</td>\n",
       "      <td>$80778.00</td>\n",
       "    </tr>\n",
       "    <tr>\n",
       "      <th>2</th>\n",
       "      <td>AARON,  KARINA</td>\n",
       "      <td>POLICE OFFICER</td>\n",
       "      <td>POLICE</td>\n",
       "      <td>$80778.00</td>\n",
       "    </tr>\n",
       "    <tr>\n",
       "      <th>3</th>\n",
       "      <td>AARON,  KIMBERLEI R</td>\n",
       "      <td>CHIEF CONTRACT EXPEDITER</td>\n",
       "      <td>GENERAL SERVICES</td>\n",
       "      <td>$84780.00</td>\n",
       "    </tr>\n",
       "    <tr>\n",
       "      <th>4</th>\n",
       "      <td>ABAD JR,  VICENTE M</td>\n",
       "      <td>CIVIL ENGINEER IV</td>\n",
       "      <td>WATER MGMNT</td>\n",
       "      <td>$104736.00</td>\n",
       "    </tr>\n",
       "    <tr>\n",
       "      <th>...</th>\n",
       "      <td>...</td>\n",
       "      <td>...</td>\n",
       "      <td>...</td>\n",
       "      <td>...</td>\n",
       "    </tr>\n",
       "    <tr>\n",
       "      <th>32177</th>\n",
       "      <td>ZYGOWICZ,  PETER J</td>\n",
       "      <td>POLICE OFFICER</td>\n",
       "      <td>POLICE</td>\n",
       "      <td>$86520.00</td>\n",
       "    </tr>\n",
       "    <tr>\n",
       "      <th>32178</th>\n",
       "      <td>ZYMANTAS,  MARK E</td>\n",
       "      <td>POLICE OFFICER</td>\n",
       "      <td>POLICE</td>\n",
       "      <td>$83616.00</td>\n",
       "    </tr>\n",
       "    <tr>\n",
       "      <th>32179</th>\n",
       "      <td>ZYRKOWSKI,  CARLO E</td>\n",
       "      <td>POLICE OFFICER</td>\n",
       "      <td>POLICE</td>\n",
       "      <td>$86520.00</td>\n",
       "    </tr>\n",
       "    <tr>\n",
       "      <th>32180</th>\n",
       "      <td>ZYSKOWSKI,  DARIUSZ</td>\n",
       "      <td>CHIEF DATA BASE ANALYST</td>\n",
       "      <td>DoIT</td>\n",
       "      <td>$110352.00</td>\n",
       "    </tr>\n",
       "    <tr>\n",
       "      <th>32181</th>\n",
       "      <td>NaN</td>\n",
       "      <td>NaN</td>\n",
       "      <td>NaN</td>\n",
       "      <td>NaN</td>\n",
       "    </tr>\n",
       "  </tbody>\n",
       "</table>\n",
       "<p>32182 rows × 4 columns</p>\n",
       "</div>"
      ],
      "text/plain": [
       "                      Name            Position Title        Department  \\\n",
       "0          AARON,  ELVIA J          WATER RATE TAKER       WATER MGMNT   \n",
       "1        AARON,  JEFFERY M            POLICE OFFICER            POLICE   \n",
       "2           AARON,  KARINA            POLICE OFFICER            POLICE   \n",
       "3      AARON,  KIMBERLEI R  CHIEF CONTRACT EXPEDITER  GENERAL SERVICES   \n",
       "4      ABAD JR,  VICENTE M         CIVIL ENGINEER IV       WATER MGMNT   \n",
       "...                    ...                       ...               ...   \n",
       "32177   ZYGOWICZ,  PETER J            POLICE OFFICER            POLICE   \n",
       "32178    ZYMANTAS,  MARK E            POLICE OFFICER            POLICE   \n",
       "32179  ZYRKOWSKI,  CARLO E            POLICE OFFICER            POLICE   \n",
       "32180  ZYSKOWSKI,  DARIUSZ   CHIEF DATA BASE ANALYST              DoIT   \n",
       "32181                  NaN                       NaN               NaN   \n",
       "\n",
       "      Employee Annual Salary  \n",
       "0                  $88967.00  \n",
       "1                  $80778.00  \n",
       "2                  $80778.00  \n",
       "3                  $84780.00  \n",
       "4                 $104736.00  \n",
       "...                      ...  \n",
       "32177              $86520.00  \n",
       "32178              $83616.00  \n",
       "32179              $86520.00  \n",
       "32180             $110352.00  \n",
       "32181                    NaN  \n",
       "\n",
       "[32182 rows x 4 columns]"
      ]
     },
     "metadata": {},
     "output_type": "display_data"
    }
   ],
   "source": [
    "tabela = pd.read_csv('salarios.csv')\n",
    "display(tabela)"
   ]
  },
  {
   "cell_type": "code",
   "execution_count": null,
   "id": "ada380d1-b4f4-4dd6-9cc7-9545789bf3d3",
   "metadata": {},
   "outputs": [],
   "source": [
    "# Alterar o título das colunas:\n",
    "# tabela = read_csv('nome do arquivo.csv', names = ['a', 'b', 'c'])\n",
    "# ATENÇÃO: os antigos nomes das colunas serão convertidos numa linha da tabela\n",
    "\n",
    "# Para salvar seusdados num arquivo csv:\n",
    "# import sys\n",
    "\n",
    "#nome_do_frame.to_csv(sys.stdout, sep = ',')\n",
    "\n",
    "# Média:\n",
    "# tabela.mean() >> Calcula a média para cada coluna\n",
    "# tabela.mean(1) >> Calcula a média por linha"
   ]
  },
  {
   "cell_type": "markdown",
   "id": "7e4270b9-b4ff-403d-8a91-dbb1c411583f",
   "metadata": {},
   "source": [
    "### Merge de dataframes:"
   ]
  },
  {
   "cell_type": "code",
   "execution_count": 11,
   "id": "4ad4e6f9-8b8d-4404-9a11-ffdaf131d290",
   "metadata": {},
   "outputs": [
    {
     "data": {
      "text/html": [
       "<div>\n",
       "<style scoped>\n",
       "    .dataframe tbody tr th:only-of-type {\n",
       "        vertical-align: middle;\n",
       "    }\n",
       "\n",
       "    .dataframe tbody tr th {\n",
       "        vertical-align: top;\n",
       "    }\n",
       "\n",
       "    .dataframe thead th {\n",
       "        text-align: right;\n",
       "    }\n",
       "</style>\n",
       "<table border=\"1\" class=\"dataframe\">\n",
       "  <thead>\n",
       "    <tr style=\"text-align: right;\">\n",
       "      <th></th>\n",
       "      <th>chave</th>\n",
       "      <th>coluna1</th>\n",
       "      <th>coluna2</th>\n",
       "    </tr>\n",
       "  </thead>\n",
       "  <tbody>\n",
       "    <tr>\n",
       "      <th>0</th>\n",
       "      <td>chave1</td>\n",
       "      <td>1</td>\n",
       "      <td>4</td>\n",
       "    </tr>\n",
       "    <tr>\n",
       "      <th>1</th>\n",
       "      <td>chave2</td>\n",
       "      <td>2</td>\n",
       "      <td>5</td>\n",
       "    </tr>\n",
       "  </tbody>\n",
       "</table>\n",
       "</div>"
      ],
      "text/plain": [
       "    chave  coluna1  coluna2\n",
       "0  chave1        1        4\n",
       "1  chave2        2        5"
      ]
     },
     "execution_count": 11,
     "metadata": {},
     "output_type": "execute_result"
    }
   ],
   "source": [
    "primeiro = pd.DataFrame({'chave': ['chave1', 'chave2'], 'coluna1': [1, 2]})\n",
    "segundo = pd.DataFrame({'chave': ['chave1', 'chave2'], 'coluna2': [4,5]})\n",
    "\n",
    "pd.merge(primeiro, segundo, on = 'chave')"
   ]
  },
  {
   "cell_type": "markdown",
   "id": "f6dc4955-11d8-4b06-b497-9e3bc30d294d",
   "metadata": {},
   "source": [
    "### Time Series:"
   ]
  },
  {
   "cell_type": "code",
   "execution_count": 15,
   "id": "2e27ef22-112f-46c4-b947-50991baeb70e",
   "metadata": {},
   "outputs": [
    {
     "name": "stdout",
     "output_type": "stream",
     "text": [
      "2021-09-02 00:00:00    195\n",
      "2021-09-02 00:00:01    310\n",
      "2021-09-02 00:00:02    422\n",
      "2021-09-02 00:00:03    154\n",
      "2021-09-02 00:00:04    250\n",
      "2021-09-02 00:00:05     53\n",
      "2021-09-02 00:00:06     25\n",
      "2021-09-02 00:00:07    306\n",
      "2021-09-02 00:00:08     24\n",
      "2021-09-02 00:00:09    298\n",
      "2021-09-02 00:00:10    224\n",
      "2021-09-02 00:00:11    432\n",
      "2021-09-02 00:00:12     41\n",
      "2021-09-02 00:00:13    289\n",
      "2021-09-02 00:00:14    173\n",
      "2021-09-02 00:00:15    290\n",
      "2021-09-02 00:00:16    443\n",
      "2021-09-02 00:00:17     75\n",
      "2021-09-02 00:00:18    418\n",
      "2021-09-02 00:00:19    230\n",
      "2021-09-02 00:00:20    426\n",
      "2021-09-02 00:00:21    132\n",
      "2021-09-02 00:00:22    368\n",
      "2021-09-02 00:00:23    362\n",
      "2021-09-02 00:00:24    389\n",
      "2021-09-02 00:00:25    373\n",
      "2021-09-02 00:00:26    316\n",
      "2021-09-02 00:00:27    217\n",
      "2021-09-02 00:00:28    274\n",
      "2021-09-02 00:00:29    286\n",
      "2021-09-02 00:00:30    328\n",
      "2021-09-02 00:00:31    253\n",
      "2021-09-02 00:00:32     28\n",
      "2021-09-02 00:00:33    270\n",
      "2021-09-02 00:00:34    104\n",
      "2021-09-02 00:00:35    434\n",
      "2021-09-02 00:00:36    190\n",
      "2021-09-02 00:00:37     11\n",
      "2021-09-02 00:00:38    168\n",
      "2021-09-02 00:00:39    250\n",
      "2021-09-02 00:00:40    152\n",
      "2021-09-02 00:00:41    107\n",
      "2021-09-02 00:00:42    492\n",
      "2021-09-02 00:00:43    177\n",
      "2021-09-02 00:00:44    248\n",
      "2021-09-02 00:00:45    376\n",
      "2021-09-02 00:00:46    356\n",
      "2021-09-02 00:00:47    463\n",
      "2021-09-02 00:00:48    366\n",
      "2021-09-02 00:00:49    385\n",
      "Freq: S, dtype: int64\n"
     ]
    }
   ],
   "source": [
    "# Criando um range de datas com frequência de segundos:\n",
    "\n",
    "rng = pd.date_range('09/02/2021', periods = 50, freq = 'S')\n",
    "\n",
    "ts = pd.Series(np.random.randint(0, 500, len(rng)), index = rng)\n",
    "\n",
    "print(ts)"
   ]
  },
  {
   "cell_type": "code",
   "execution_count": null,
   "id": "6138d904-c404-4087-8759-84884493db8d",
   "metadata": {},
   "outputs": [],
   "source": []
  }
 ],
 "metadata": {
  "kernelspec": {
   "display_name": "Python 3",
   "language": "python",
   "name": "python3"
  },
  "language_info": {
   "codemirror_mode": {
    "name": "ipython",
    "version": 3
   },
   "file_extension": ".py",
   "mimetype": "text/x-python",
   "name": "python",
   "nbconvert_exporter": "python",
   "pygments_lexer": "ipython3",
   "version": "3.9.1"
  }
 },
 "nbformat": 4,
 "nbformat_minor": 5
}
