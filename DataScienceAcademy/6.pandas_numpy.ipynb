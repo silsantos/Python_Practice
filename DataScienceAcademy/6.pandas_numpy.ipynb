{
 "cells": [
  {
   "cell_type": "markdown",
   "id": "68b3448e-af1e-4569-9ddc-e29d1fe102cc",
   "metadata": {},
   "source": [
    "### Criando um Dataframe"
   ]
  },
  {
   "cell_type": "code",
   "execution_count": 25,
   "id": "fb907df7-7e38-4154-8bfa-d9f2f5128c6c",
   "metadata": {},
   "outputs": [],
   "source": [
    "import pandas as pd\n",
    "import numpy as np"
   ]
  },
  {
   "cell_type": "code",
   "execution_count": 5,
   "id": "0cd82668-86a7-4541-81cd-5484645af29f",
   "metadata": {},
   "outputs": [
    {
     "data": {
      "text/html": [
       "<div>\n",
       "<style scoped>\n",
       "    .dataframe tbody tr th:only-of-type {\n",
       "        vertical-align: middle;\n",
       "    }\n",
       "\n",
       "    .dataframe tbody tr th {\n",
       "        vertical-align: top;\n",
       "    }\n",
       "\n",
       "    .dataframe thead th {\n",
       "        text-align: right;\n",
       "    }\n",
       "</style>\n",
       "<table border=\"1\" class=\"dataframe\">\n",
       "  <thead>\n",
       "    <tr style=\"text-align: right;\">\n",
       "      <th></th>\n",
       "      <th>Estado</th>\n",
       "      <th>Ano</th>\n",
       "      <th>População</th>\n",
       "    </tr>\n",
       "  </thead>\n",
       "  <tbody>\n",
       "    <tr>\n",
       "      <th>0</th>\n",
       "      <td>Paraná</td>\n",
       "      <td>2002</td>\n",
       "      <td>1.5</td>\n",
       "    </tr>\n",
       "    <tr>\n",
       "      <th>1</th>\n",
       "      <td>Santa Catarina</td>\n",
       "      <td>2009</td>\n",
       "      <td>1.7</td>\n",
       "    </tr>\n",
       "    <tr>\n",
       "      <th>2</th>\n",
       "      <td>Rio Grande do Sul</td>\n",
       "      <td>2021</td>\n",
       "      <td>3.6</td>\n",
       "    </tr>\n",
       "  </tbody>\n",
       "</table>\n",
       "</div>"
      ],
      "text/plain": [
       "              Estado   Ano  População\n",
       "0             Paraná  2002        1.5\n",
       "1     Santa Catarina  2009        1.7\n",
       "2  Rio Grande do Sul  2021        3.6"
      ]
     },
     "metadata": {},
     "output_type": "display_data"
    }
   ],
   "source": [
    "# Criando um dicionário:\n",
    "data = {'Estado': ['Paraná','Santa Catarina','Rio Grande do Sul'], 'Ano':[2002,2009,2021], 'População':[1.5,1.7,3.6]}\n",
    "\n",
    "#Criando um dataframe a partir do dicionário:\n",
    "frame = pd.DataFrame(data)\n",
    "display(frame)"
   ]
  },
  {
   "cell_type": "markdown",
   "id": "a0316752-99f2-48c1-ae0d-45087ea71a40",
   "metadata": {},
   "source": [
    "### Se o nome das colunas não estivesse definido, para definir:\n",
    "* DataFrame(data, columns=['Estado', 'Ano', 'População'])"
   ]
  },
  {
   "cell_type": "code",
   "execution_count": 6,
   "id": "aaf35892-418b-4228-8c21-5baa74643ad5",
   "metadata": {},
   "outputs": [
    {
     "data": {
      "text/html": [
       "<div>\n",
       "<style scoped>\n",
       "    .dataframe tbody tr th:only-of-type {\n",
       "        vertical-align: middle;\n",
       "    }\n",
       "\n",
       "    .dataframe tbody tr th {\n",
       "        vertical-align: top;\n",
       "    }\n",
       "\n",
       "    .dataframe thead th {\n",
       "        text-align: right;\n",
       "    }\n",
       "</style>\n",
       "<table border=\"1\" class=\"dataframe\">\n",
       "  <thead>\n",
       "    <tr style=\"text-align: right;\">\n",
       "      <th></th>\n",
       "      <th>Estado</th>\n",
       "      <th>Ano</th>\n",
       "      <th>População</th>\n",
       "      <th>Débito</th>\n",
       "    </tr>\n",
       "  </thead>\n",
       "  <tbody>\n",
       "    <tr>\n",
       "      <th>um</th>\n",
       "      <td>Paraná</td>\n",
       "      <td>2002</td>\n",
       "      <td>1.5</td>\n",
       "      <td>NaN</td>\n",
       "    </tr>\n",
       "    <tr>\n",
       "      <th>dois</th>\n",
       "      <td>Santa Catarina</td>\n",
       "      <td>2009</td>\n",
       "      <td>1.7</td>\n",
       "      <td>NaN</td>\n",
       "    </tr>\n",
       "    <tr>\n",
       "      <th>três</th>\n",
       "      <td>Rio Grande do Sul</td>\n",
       "      <td>2021</td>\n",
       "      <td>3.6</td>\n",
       "      <td>NaN</td>\n",
       "    </tr>\n",
       "  </tbody>\n",
       "</table>\n",
       "</div>"
      ],
      "text/plain": [
       "                 Estado   Ano  População Débito\n",
       "um               Paraná  2002        1.5    NaN\n",
       "dois     Santa Catarina  2009        1.7    NaN\n",
       "três  Rio Grande do Sul  2021        3.6    NaN"
      ]
     },
     "metadata": {},
     "output_type": "display_data"
    }
   ],
   "source": [
    "# Criando outro dataframe com os mesmos dados anteriores, mas adicionando uma coluna e indexes:\n",
    "\n",
    "frame2 = pd.DataFrame(data, columns=['Estado', 'Ano', 'População', 'Débito'], index = ['um', 'dois', 'três'])\n",
    "display(frame2)"
   ]
  },
  {
   "cell_type": "code",
   "execution_count": 31,
   "id": "b71a4825-fb17-4d69-8ab7-2ed3d7b01a62",
   "metadata": {},
   "outputs": [
    {
     "data": {
      "text/html": [
       "<div>\n",
       "<style scoped>\n",
       "    .dataframe tbody tr th:only-of-type {\n",
       "        vertical-align: middle;\n",
       "    }\n",
       "\n",
       "    .dataframe tbody tr th {\n",
       "        vertical-align: top;\n",
       "    }\n",
       "\n",
       "    .dataframe thead th {\n",
       "        text-align: right;\n",
       "    }\n",
       "</style>\n",
       "<table border=\"1\" class=\"dataframe\">\n",
       "  <thead>\n",
       "    <tr style=\"text-align: right;\">\n",
       "      <th></th>\n",
       "      <th>Estado</th>\n",
       "      <th>Ano</th>\n",
       "      <th>População</th>\n",
       "      <th>Débito</th>\n",
       "    </tr>\n",
       "  </thead>\n",
       "  <tbody>\n",
       "    <tr>\n",
       "      <th>um</th>\n",
       "      <td>Paraná</td>\n",
       "      <td>2002</td>\n",
       "      <td>1.5</td>\n",
       "      <td>10</td>\n",
       "    </tr>\n",
       "    <tr>\n",
       "      <th>dois</th>\n",
       "      <td>Santa Catarina</td>\n",
       "      <td>2009</td>\n",
       "      <td>1.7</td>\n",
       "      <td>11</td>\n",
       "    </tr>\n",
       "  </tbody>\n",
       "</table>\n",
       "</div>"
      ],
      "text/plain": [
       "              Estado   Ano  População  Débito\n",
       "um            Paraná  2002        1.5      10\n",
       "dois  Santa Catarina  2009        1.7      11"
      ]
     },
     "execution_count": 31,
     "metadata": {},
     "output_type": "execute_result"
    }
   ],
   "source": [
    "# Testando slices:\n",
    "\n",
    "frame2[:2] # Mostra tudo das linhas 0 e 1\n",
    "frame2['Ano'][1] # Mostra apenas a informação da coluna Ano que está na linha 2 (posição 1)\n",
    "frame2['um':'dois'] # Mostrará as linhas dos índices 'um' até o índice 'dois'"
   ]
  },
  {
   "cell_type": "code",
   "execution_count": 24,
   "id": "0ad0fd62-9ac9-49cc-95f7-31b1d7090a9e",
   "metadata": {},
   "outputs": [
    {
     "data": {
      "text/plain": [
       "2002"
      ]
     },
     "execution_count": 24,
     "metadata": {},
     "output_type": "execute_result"
    }
   ],
   "source": [
    "# loc: Mostra que será inserido o NOME de um índice (linha). Especifica-se a coluna (se deixar sem especificar, mostra todas)\n",
    "frame2.loc['um']['Ano']"
   ]
  },
  {
   "cell_type": "code",
   "execution_count": 22,
   "id": "16593eb7-e673-4b76-aa15-67e06e9a78f5",
   "metadata": {},
   "outputs": [
    {
     "data": {
      "text/plain": [
       "2009"
      ]
     },
     "execution_count": 22,
     "metadata": {},
     "output_type": "execute_result"
    }
   ],
   "source": [
    "# iloc: Mostra que será inserido o índice numérico (independentemente do seu nome)\n",
    "frame2.iloc[1]['Ano']"
   ]
  },
  {
   "cell_type": "code",
   "execution_count": 28,
   "id": "99afdd42-1310-47c8-82b4-a1d749acfc40",
   "metadata": {},
   "outputs": [
    {
     "data": {
      "text/html": [
       "<div>\n",
       "<style scoped>\n",
       "    .dataframe tbody tr th:only-of-type {\n",
       "        vertical-align: middle;\n",
       "    }\n",
       "\n",
       "    .dataframe tbody tr th {\n",
       "        vertical-align: top;\n",
       "    }\n",
       "\n",
       "    .dataframe thead th {\n",
       "        text-align: right;\n",
       "    }\n",
       "</style>\n",
       "<table border=\"1\" class=\"dataframe\">\n",
       "  <thead>\n",
       "    <tr style=\"text-align: right;\">\n",
       "      <th></th>\n",
       "      <th>Estado</th>\n",
       "      <th>Ano</th>\n",
       "      <th>População</th>\n",
       "      <th>Débito</th>\n",
       "    </tr>\n",
       "  </thead>\n",
       "  <tbody>\n",
       "    <tr>\n",
       "      <th>um</th>\n",
       "      <td>Paraná</td>\n",
       "      <td>2002</td>\n",
       "      <td>1.5</td>\n",
       "      <td>10</td>\n",
       "    </tr>\n",
       "    <tr>\n",
       "      <th>dois</th>\n",
       "      <td>Santa Catarina</td>\n",
       "      <td>2009</td>\n",
       "      <td>1.7</td>\n",
       "      <td>11</td>\n",
       "    </tr>\n",
       "    <tr>\n",
       "      <th>três</th>\n",
       "      <td>Rio Grande do Sul</td>\n",
       "      <td>2021</td>\n",
       "      <td>3.6</td>\n",
       "      <td>12</td>\n",
       "    </tr>\n",
       "  </tbody>\n",
       "</table>\n",
       "</div>"
      ],
      "text/plain": [
       "                 Estado   Ano  População  Débito\n",
       "um               Paraná  2002        1.5      10\n",
       "dois     Santa Catarina  2009        1.7      11\n",
       "três  Rio Grande do Sul  2021        3.6      12"
      ]
     },
     "metadata": {},
     "output_type": "display_data"
    }
   ],
   "source": [
    "# Preenchendo a coluna DÉBITO:\n",
    "\n",
    "frame2['Débito'] = np.arange(10,13)\n",
    "display(frame2)"
   ]
  },
  {
   "cell_type": "code",
   "execution_count": 29,
   "id": "46aa329b-bc2c-470e-b247-25d8ebf58067",
   "metadata": {},
   "outputs": [
    {
     "data": {
      "text/html": [
       "<div>\n",
       "<style scoped>\n",
       "    .dataframe tbody tr th:only-of-type {\n",
       "        vertical-align: middle;\n",
       "    }\n",
       "\n",
       "    .dataframe tbody tr th {\n",
       "        vertical-align: top;\n",
       "    }\n",
       "\n",
       "    .dataframe thead th {\n",
       "        text-align: right;\n",
       "    }\n",
       "</style>\n",
       "<table border=\"1\" class=\"dataframe\">\n",
       "  <thead>\n",
       "    <tr style=\"text-align: right;\">\n",
       "      <th></th>\n",
       "      <th>Ano</th>\n",
       "      <th>População</th>\n",
       "      <th>Débito</th>\n",
       "    </tr>\n",
       "  </thead>\n",
       "  <tbody>\n",
       "    <tr>\n",
       "      <th>count</th>\n",
       "      <td>3.000000</td>\n",
       "      <td>3.000000</td>\n",
       "      <td>3.0</td>\n",
       "    </tr>\n",
       "    <tr>\n",
       "      <th>mean</th>\n",
       "      <td>2010.666667</td>\n",
       "      <td>2.266667</td>\n",
       "      <td>11.0</td>\n",
       "    </tr>\n",
       "    <tr>\n",
       "      <th>std</th>\n",
       "      <td>9.609024</td>\n",
       "      <td>1.159023</td>\n",
       "      <td>1.0</td>\n",
       "    </tr>\n",
       "    <tr>\n",
       "      <th>min</th>\n",
       "      <td>2002.000000</td>\n",
       "      <td>1.500000</td>\n",
       "      <td>10.0</td>\n",
       "    </tr>\n",
       "    <tr>\n",
       "      <th>25%</th>\n",
       "      <td>2005.500000</td>\n",
       "      <td>1.600000</td>\n",
       "      <td>10.5</td>\n",
       "    </tr>\n",
       "    <tr>\n",
       "      <th>50%</th>\n",
       "      <td>2009.000000</td>\n",
       "      <td>1.700000</td>\n",
       "      <td>11.0</td>\n",
       "    </tr>\n",
       "    <tr>\n",
       "      <th>75%</th>\n",
       "      <td>2015.000000</td>\n",
       "      <td>2.650000</td>\n",
       "      <td>11.5</td>\n",
       "    </tr>\n",
       "    <tr>\n",
       "      <th>max</th>\n",
       "      <td>2021.000000</td>\n",
       "      <td>3.600000</td>\n",
       "      <td>12.0</td>\n",
       "    </tr>\n",
       "  </tbody>\n",
       "</table>\n",
       "</div>"
      ],
      "text/plain": [
       "               Ano  População  Débito\n",
       "count     3.000000   3.000000     3.0\n",
       "mean   2010.666667   2.266667    11.0\n",
       "std       9.609024   1.159023     1.0\n",
       "min    2002.000000   1.500000    10.0\n",
       "25%    2005.500000   1.600000    10.5\n",
       "50%    2009.000000   1.700000    11.0\n",
       "75%    2015.000000   2.650000    11.5\n",
       "max    2021.000000   3.600000    12.0"
      ]
     },
     "execution_count": 29,
     "metadata": {},
     "output_type": "execute_result"
    }
   ],
   "source": [
    "# Descrever os dados: quantidade, méddia, desvio padrão, valor mínimo, máximo e os percentis\n",
    "frame2.describe()"
   ]
  },
  {
   "cell_type": "code",
   "execution_count": null,
   "id": "6996ff77-f9b9-44b9-9b77-8e431a8ca456",
   "metadata": {},
   "outputs": [],
   "source": [
    "# É possível transformar uma coluna em índice:\n",
    "\n",
    "# nomedoframe.set_index('nome da coluna')"
   ]
  }
 ],
 "metadata": {
  "kernelspec": {
   "display_name": "Python 3",
   "language": "python",
   "name": "python3"
  },
  "language_info": {
   "codemirror_mode": {
    "name": "ipython",
    "version": 3
   },
   "file_extension": ".py",
   "mimetype": "text/x-python",
   "name": "python",
   "nbconvert_exporter": "python",
   "pygments_lexer": "ipython3",
   "version": "3.9.1"
  }
 },
 "nbformat": 4,
 "nbformat_minor": 5
}
