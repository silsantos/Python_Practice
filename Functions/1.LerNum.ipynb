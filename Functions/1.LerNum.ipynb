{
 "cells": [
  {
   "cell_type": "markdown",
   "id": "7c5307be-7a1f-4e0c-8d9d-827cce17aa7f",
   "metadata": {},
   "source": [
    "Função para ler números INTEIROS"
   ]
  },
  {
   "cell_type": "code",
   "execution_count": null,
   "id": "6d4545b6-b924-4047-9275-13cdddc9e0fc",
   "metadata": {},
   "outputs": [],
   "source": [
    "def readInt(msg):\n",
    "    while True:\n",
    "        try:\n",
    "            n = int(input(msg))\n",
    "        except(ValueError, TypeError):\n",
    "            print(f'\\033[1;31mERRO! Digite um número inteiro.\\033[m')\n",
    "            continue\n",
    "        except(KeyboardInterrupt):\n",
    "            print(f'O usuário optou por não inserir o número.')\n",
    "            return 0\n",
    "        else:\n",
    "            return n"
   ]
  },
  {
   "cell_type": "code",
   "execution_count": null,
   "id": "555a281a-4c45-4604-b7a7-6d12835a63a6",
   "metadata": {},
   "outputs": [],
   "source": [
    "#Testing:\n",
    "\n",
    "num = readInt('Digite um número inteiro: ')\n",
    "print(f'Você digitou o número {num}')"
   ]
  },
  {
   "cell_type": "markdown",
   "id": "af95ab9e-7360-48e4-9ffa-25604302c91c",
   "metadata": {},
   "source": [
    "Função para ler números REAIS"
   ]
  },
  {
   "cell_type": "code",
   "execution_count": null,
   "id": "f311b194-9ff4-492c-9e83-2a751bf21228",
   "metadata": {},
   "outputs": [],
   "source": [
    "def readFloat(msg):\n",
    "    while True:\n",
    "        try:\n",
    "            n = float(input(msg))\n",
    "        except(ValueError, TypeError):\n",
    "            print(f'\\033[1;31mERRO! Digite um número real.\\033[m')\n",
    "            continue\n",
    "        except(KeyboardInterrupt):\n",
    "            print(f'O usuário optou por não inserir um número.\\033[m')\n",
    "            return 0\n",
    "        else:\n",
    "            return n"
   ]
  },
  {
   "cell_type": "code",
   "execution_count": null,
   "id": "cb5302b9-4395-4b65-b432-e8a78a3a809d",
   "metadata": {},
   "outputs": [],
   "source": [
    "#Testing:\n",
    "num = readFloat('Digite um número real: ')\n",
    "print(f'Você digitou o número {num}')"
   ]
  },
  {
   "cell_type": "code",
   "execution_count": null,
   "id": "7551572b-1316-4941-9485-8a936b203f74",
   "metadata": {},
   "outputs": [],
   "source": []
  }
 ],
 "metadata": {
  "kernelspec": {
   "display_name": "Python 3",
   "language": "python",
   "name": "python3"
  },
  "language_info": {
   "codemirror_mode": {
    "name": "ipython",
    "version": 3
   },
   "file_extension": ".py",
   "mimetype": "text/x-python",
   "name": "python",
   "nbconvert_exporter": "python",
   "pygments_lexer": "ipython3",
   "version": "3.9.1"
  }
 },
 "nbformat": 4,
 "nbformat_minor": 5
}
