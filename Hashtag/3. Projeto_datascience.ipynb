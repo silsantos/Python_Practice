{
 "cells": [
  {
   "cell_type": "markdown",
   "id": "1099a76c-6d18-4f51-af75-c28012bb8ee1",
   "metadata": {},
   "source": [
    "# Projeto de Ciência de Dados: Previsão de Vendas"
   ]
  },
  {
   "cell_type": "markdown",
   "id": "9033cb91-5147-4fd3-a038-178d22ef684a",
   "metadata": {},
   "source": [
    "* Tarefa: Conseguir prever as vendas de uma empresa, em determinado período, com base nos gastos em anúncios nas 3 grandes redes que a empresa investe: TV, jornal e rádio."
   ]
  },
  {
   "cell_type": "code",
   "execution_count": null,
   "id": "ff27bbc0-698f-429b-8fec-7b4e7f97d550",
   "metadata": {},
   "outputs": [],
   "source": []
  }
 ],
 "metadata": {
  "kernelspec": {
   "display_name": "Python 3",
   "language": "python",
   "name": "python3"
  },
  "language_info": {
   "codemirror_mode": {
    "name": "ipython",
    "version": 3
   },
   "file_extension": ".py",
   "mimetype": "text/x-python",
   "name": "python",
   "nbconvert_exporter": "python",
   "pygments_lexer": "ipython3",
   "version": "3.9.1"
  }
 },
 "nbformat": 4,
 "nbformat_minor": 5
}
