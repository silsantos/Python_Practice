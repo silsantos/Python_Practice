{
 "cells": [
  {
   "cell_type": "markdown",
   "id": "06dadfc3-a481-4818-a9d2-be801b557337",
   "metadata": {},
   "source": [
    "## Automação de tarefas em Python"
   ]
  },
  {
   "cell_type": "markdown",
   "id": "d2b9d77e-47b4-4ee3-9e8a-688189ccadc4",
   "metadata": {},
   "source": [
    "## Tarefa a ser automatizada:\n",
    "\n",
    "Todos os dias o nosso sistema atualiza as vendas do dia anterior. Sua função, enquanto analista, é enviar um email para a diretoria, logo no início do dia, com o faturamento e a quantidade de produtos vendidos no dia anterior.\n",
    "\n",
    "Email da diretoria: seuemail@email.com\n",
    "Local onde o sistema disponibiliza as vendas do dia anterior: https://drive.google.com/drive/folders/149xknr9JvrlEnhNWO49zPcw0PW5icxga"
   ]
  },
  {
   "cell_type": "markdown",
   "id": "9e0770bd-1fa1-4bf2-a5f7-093f893e45fe",
   "metadata": {},
   "source": [
    "## Passo-a-passo para a solução manual do problema:\n",
    "\n",
    "1) Entrar no sistema da empresa (https://drive.google.com/drive/folders/149xknr9JvrlEnhNWO49zPcw0PW5icxga )\n",
    "2) Navegar até o local onde está a base de dados (entrar na pasta)\n",
    "3) Baixar a planilha de vendas\n",
    "4) Calcular o faturamento e a quantidade de produtos vendidos no dia anterior\n",
    "5) Enviar o email para a diretoria"
   ]
  },
  {
   "cell_type": "code",
   "execution_count": 1,
   "id": "d1917c18-c4f1-4f2f-ba0a-fe06eb8d4272",
   "metadata": {
    "tags": []
   },
   "outputs": [
    {
     "name": "stderr",
     "output_type": "stream",
     "text": [
      "/Users/silvanasantos/miniconda3/lib/python3.9/site-packages/rubicon/objc/ctypes_patch.py:21: UserWarning: rubicon.objc.ctypes_patch has only been tested with Python 3.4 through 3.8. You are using Python 3.9.1. Most likely things will work properly, but you may experience crashes if Python's internals have changed significantly.\n",
      "  warnings.warn(\n"
     ]
    }
   ],
   "source": [
    "import pyautogui\n",
    "import time\n",
    "import pyperclip"
   ]
  },
  {
   "cell_type": "code",
   "execution_count": 7,
   "id": "f7fe69d2-c467-43ef-94a9-ad4efabd9437",
   "metadata": {
    "tags": []
   },
   "outputs": [],
   "source": [
    "#Passo1: Abrir nova aba no navegador e copiar e colar o link do sistema da empresa:\n",
    "pyautogui.PAUSE = 1\n",
    "pyautogui.hotkey('shift','command', 'n')\n",
    "link = 'https://drive.google.com/drive/folders/149xknr9JvrlEnhNWO49zPcw0PW5icxga'\n",
    "pyperclip.copy(link)\n",
    "time.sleep(2)\n",
    "pyautogui.hotkey('command','v')\n",
    "pyautogui.press('enter')\n",
    "time.sleep(3)\n",
    "#Posição do cursos abaixo foi extraída da célula passo 2.\n",
    "pyautogui.click(309, 341)"
   ]
  },
  {
   "cell_type": "code",
   "execution_count": null,
   "id": "8b76c980-d6f6-4fd5-98ab-56a13cbd2c4c",
   "metadata": {},
   "outputs": [],
   "source": [
    "#Passo 2: Entrar na pasta\n",
    "#Para entrar na pasta, preciso clicar nela. Para cliques, preciso da posição do objeto.\n",
    "time.sleep(5)\n",
    "pyautogui.position()\n",
    "#Com a posição, posso clicar na pasta:\n"
   ]
  },
  {
   "cell_type": "code",
   "execution_count": null,
   "id": "4934cab6-48f2-49f7-b3fa-c6ec44cbe2fa",
   "metadata": {},
   "outputs": [],
   "source": []
  },
  {
   "cell_type": "code",
   "execution_count": null,
   "id": "0cdc9d70-dfeb-4814-98fd-4ffd0995eb38",
   "metadata": {},
   "outputs": [],
   "source": []
  }
 ],
 "metadata": {
  "kernelspec": {
   "display_name": "Python 3",
   "language": "python",
   "name": "python3"
  },
  "language_info": {
   "codemirror_mode": {
    "name": "ipython",
    "version": 3
   },
   "file_extension": ".py",
   "mimetype": "text/x-python",
   "name": "python",
   "nbconvert_exporter": "python",
   "pygments_lexer": "ipython3",
   "version": "3.9.1"
  }
 },
 "nbformat": 4,
 "nbformat_minor": 5
}
