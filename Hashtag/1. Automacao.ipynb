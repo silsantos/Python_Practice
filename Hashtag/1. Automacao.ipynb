{
 "cells": [
  {
   "cell_type": "markdown",
   "id": "06dadfc3-a481-4818-a9d2-be801b557337",
   "metadata": {},
   "source": [
    "# Automação de tarefas em Python"
   ]
  },
  {
   "cell_type": "markdown",
   "id": "d2b9d77e-47b4-4ee3-9e8a-688189ccadc4",
   "metadata": {},
   "source": [
    "## Tarefa a ser automatizada:\n",
    "\n",
    "Todos os dias o nosso sistema atualiza as vendas do dia anterior. Sua função, enquanto analista, é enviar um email para a diretoria, logo no início do dia, com o faturamento e a quantidade de produtos vendidos no dia anterior.\n",
    "\n",
    "* Email da diretoria: seuemail@email.com\n",
    "* Local onde o sistema disponibiliza as vendas do dia anterior: https://drive.google.com/drive/folders/149xknr9JvrlEnhNWO49zPcw0PW5icxga"
   ]
  },
  {
   "cell_type": "markdown",
   "id": "9e0770bd-1fa1-4bf2-a5f7-093f893e45fe",
   "metadata": {},
   "source": [
    "## Passo-a-passo para a solução manual do problema:\n",
    "\n",
    "1) Entrar no sistema da empresa (https://drive.google.com/drive/folders/149xknr9JvrlEnhNWO49zPcw0PW5icxga )\n",
    "2) Navegar até o local onde está a base de dados (entrar na pasta)\n",
    "3) Baixar a planilha de vendas\n",
    "4) Calcular o faturamento e a quantidade de produtos vendidos no dia anterior\n",
    "5) Enviar o email para a diretoria"
   ]
  },
  {
   "cell_type": "code",
   "execution_count": 1,
   "id": "d1917c18-c4f1-4f2f-ba0a-fe06eb8d4272",
   "metadata": {
    "tags": []
   },
   "outputs": [
    {
     "name": "stderr",
     "output_type": "stream",
     "text": [
      "/Users/silvanasantos/miniconda3/lib/python3.9/site-packages/rubicon/objc/ctypes_patch.py:21: UserWarning: rubicon.objc.ctypes_patch has only been tested with Python 3.4 through 3.8. You are using Python 3.9.1. Most likely things will work properly, but you may experience crashes if Python's internals have changed significantly.\n",
      "  warnings.warn(\n"
     ]
    }
   ],
   "source": [
    "import pyautogui\n",
    "import time\n",
    "import pyperclip"
   ]
  },
  {
   "cell_type": "code",
   "execution_count": 8,
   "id": "f7fe69d2-c467-43ef-94a9-ad4efabd9437",
   "metadata": {
    "tags": []
   },
   "outputs": [],
   "source": [
    "#Passo1: Abrir nova aba no navegador e copiar e colar o link do sistema da empresa:\n",
    "\n",
    "#Abrindo uma nova guia:\n",
    "pyautogui.PAUSE = 1\n",
    "pyautogui.hotkey('shift','command', 'n')\n",
    "# Copiando o link e colando na barra de endereço\n",
    "link = 'https://drive.google.com/drive/folders/149xknr9JvrlEnhNWO49zPcw0PW5icxga'\n",
    "pyperclip.copy(link)\n",
    "time.sleep(2)\n",
    "pyautogui.hotkey('command','v')\n",
    "pyautogui.press('enter')\n",
    "time.sleep(3)\n",
    "\n",
    "#Clicando na pasta do arquivo\n",
    "#Posição do cursor abaixo foi extraída da célula passo 2.\n",
    "pyautogui.click(309, 341)\n",
    "\n",
    "#Passo3: Fazer o download do arquivo. Posição obtida no passo 2.\n",
    "pyautogui.click(93,323)\n",
    "time.sleep(10)\n"
   ]
  },
  {
   "cell_type": "code",
   "execution_count": 3,
   "id": "8b76c980-d6f6-4fd5-98ab-56a13cbd2c4c",
   "metadata": {},
   "outputs": [],
   "source": [
    "#Passo 2: Entrar na pasta\n",
    "#Para entrar na pasta, é necessário clicar nela. Para cliques, preciso da posição do objeto.\n",
    "#time.sleep(5)\n",
    "#pyautogui.position()\n"
   ]
  },
  {
   "cell_type": "markdown",
   "id": "b350fc85-839a-4eb8-93da-de31322ad7af",
   "metadata": {},
   "source": [
    "## Ler a base de dados do arquivo baixado\n",
    "### Dados necessários:\n",
    "* Faturamento do dia anterior\n",
    "* Quantidade de produtos vendidos"
   ]
  },
  {
   "cell_type": "code",
   "execution_count": 22,
   "id": "0cdc9d70-dfeb-4814-98fd-4ffd0995eb38",
   "metadata": {},
   "outputs": [
    {
     "data": {
      "text/html": [
       "<div>\n",
       "<style scoped>\n",
       "    .dataframe tbody tr th:only-of-type {\n",
       "        vertical-align: middle;\n",
       "    }\n",
       "\n",
       "    .dataframe tbody tr th {\n",
       "        vertical-align: top;\n",
       "    }\n",
       "\n",
       "    .dataframe thead th {\n",
       "        text-align: right;\n",
       "    }\n",
       "</style>\n",
       "<table border=\"1\" class=\"dataframe\">\n",
       "  <thead>\n",
       "    <tr style=\"text-align: right;\">\n",
       "      <th></th>\n",
       "      <th>Código Venda</th>\n",
       "      <th>Data</th>\n",
       "      <th>ID Loja</th>\n",
       "      <th>Produto</th>\n",
       "      <th>Quantidade</th>\n",
       "      <th>Valor Unitário</th>\n",
       "      <th>Valor Final</th>\n",
       "    </tr>\n",
       "  </thead>\n",
       "  <tbody>\n",
       "    <tr>\n",
       "      <th>0</th>\n",
       "      <td>65014</td>\n",
       "      <td>2019-12-01</td>\n",
       "      <td>Shopping Morumbi</td>\n",
       "      <td>Sunga Listrado</td>\n",
       "      <td>5</td>\n",
       "      <td>114</td>\n",
       "      <td>570</td>\n",
       "    </tr>\n",
       "    <tr>\n",
       "      <th>1</th>\n",
       "      <td>65014</td>\n",
       "      <td>2019-12-01</td>\n",
       "      <td>Shopping Morumbi</td>\n",
       "      <td>Casaco Listrado</td>\n",
       "      <td>1</td>\n",
       "      <td>269</td>\n",
       "      <td>269</td>\n",
       "    </tr>\n",
       "    <tr>\n",
       "      <th>2</th>\n",
       "      <td>65016</td>\n",
       "      <td>2019-12-01</td>\n",
       "      <td>Iguatemi Campinas</td>\n",
       "      <td>Sapato Listrado</td>\n",
       "      <td>2</td>\n",
       "      <td>363</td>\n",
       "      <td>726</td>\n",
       "    </tr>\n",
       "    <tr>\n",
       "      <th>3</th>\n",
       "      <td>65016</td>\n",
       "      <td>2019-12-01</td>\n",
       "      <td>Iguatemi Campinas</td>\n",
       "      <td>Casaco</td>\n",
       "      <td>1</td>\n",
       "      <td>250</td>\n",
       "      <td>250</td>\n",
       "    </tr>\n",
       "    <tr>\n",
       "      <th>4</th>\n",
       "      <td>65017</td>\n",
       "      <td>2019-12-01</td>\n",
       "      <td>Shopping SP Market</td>\n",
       "      <td>Gorro Liso</td>\n",
       "      <td>3</td>\n",
       "      <td>92</td>\n",
       "      <td>276</td>\n",
       "    </tr>\n",
       "    <tr>\n",
       "      <th>...</th>\n",
       "      <td>...</td>\n",
       "      <td>...</td>\n",
       "      <td>...</td>\n",
       "      <td>...</td>\n",
       "      <td>...</td>\n",
       "      <td>...</td>\n",
       "      <td>...</td>\n",
       "    </tr>\n",
       "    <tr>\n",
       "      <th>7084</th>\n",
       "      <td>69996</td>\n",
       "      <td>2019-12-26</td>\n",
       "      <td>Center Shopping Uberlândia</td>\n",
       "      <td>Short Listrado</td>\n",
       "      <td>2</td>\n",
       "      <td>102</td>\n",
       "      <td>204</td>\n",
       "    </tr>\n",
       "    <tr>\n",
       "      <th>7085</th>\n",
       "      <td>69996</td>\n",
       "      <td>2019-12-26</td>\n",
       "      <td>Center Shopping Uberlândia</td>\n",
       "      <td>Mochila</td>\n",
       "      <td>4</td>\n",
       "      <td>270</td>\n",
       "      <td>1080</td>\n",
       "    </tr>\n",
       "    <tr>\n",
       "      <th>7086</th>\n",
       "      <td>69996</td>\n",
       "      <td>2019-12-26</td>\n",
       "      <td>Center Shopping Uberlândia</td>\n",
       "      <td>Pulseira Estampa</td>\n",
       "      <td>1</td>\n",
       "      <td>87</td>\n",
       "      <td>87</td>\n",
       "    </tr>\n",
       "    <tr>\n",
       "      <th>7087</th>\n",
       "      <td>69997</td>\n",
       "      <td>2019-12-26</td>\n",
       "      <td>Ribeirão Shopping</td>\n",
       "      <td>Camisa Listrado</td>\n",
       "      <td>1</td>\n",
       "      <td>108</td>\n",
       "      <td>108</td>\n",
       "    </tr>\n",
       "    <tr>\n",
       "      <th>7088</th>\n",
       "      <td>69997</td>\n",
       "      <td>2019-12-26</td>\n",
       "      <td>Ribeirão Shopping</td>\n",
       "      <td>Short Linho</td>\n",
       "      <td>2</td>\n",
       "      <td>133</td>\n",
       "      <td>266</td>\n",
       "    </tr>\n",
       "  </tbody>\n",
       "</table>\n",
       "<p>7089 rows × 7 columns</p>\n",
       "</div>"
      ],
      "text/plain": [
       "      Código Venda       Data                     ID Loja           Produto  \\\n",
       "0            65014 2019-12-01            Shopping Morumbi    Sunga Listrado   \n",
       "1            65014 2019-12-01            Shopping Morumbi   Casaco Listrado   \n",
       "2            65016 2019-12-01           Iguatemi Campinas   Sapato Listrado   \n",
       "3            65016 2019-12-01           Iguatemi Campinas            Casaco   \n",
       "4            65017 2019-12-01          Shopping SP Market        Gorro Liso   \n",
       "...            ...        ...                         ...               ...   \n",
       "7084         69996 2019-12-26  Center Shopping Uberlândia    Short Listrado   \n",
       "7085         69996 2019-12-26  Center Shopping Uberlândia           Mochila   \n",
       "7086         69996 2019-12-26  Center Shopping Uberlândia  Pulseira Estampa   \n",
       "7087         69997 2019-12-26           Ribeirão Shopping   Camisa Listrado   \n",
       "7088         69997 2019-12-26           Ribeirão Shopping       Short Linho   \n",
       "\n",
       "      Quantidade  Valor Unitário  Valor Final  \n",
       "0              5             114          570  \n",
       "1              1             269          269  \n",
       "2              2             363          726  \n",
       "3              1             250          250  \n",
       "4              3              92          276  \n",
       "...          ...             ...          ...  \n",
       "7084           2             102          204  \n",
       "7085           4             270         1080  \n",
       "7086           1              87           87  \n",
       "7087           1             108          108  \n",
       "7088           2             133          266  \n",
       "\n",
       "[7089 rows x 7 columns]"
      ]
     },
     "metadata": {},
     "output_type": "display_data"
    }
   ],
   "source": [
    "import pandas as pd\n",
    "\n",
    "tabela = pd.read_excel(r'/Users/silvanasantos/Downloads/Vendas - Dez.xlsx')\n",
    "display(tabela)"
   ]
  },
  {
   "cell_type": "code",
   "execution_count": null,
   "id": "69358f98-9e31-44a3-8c9b-f1dc260dcb25",
   "metadata": {},
   "outputs": [],
   "source": []
  }
 ],
 "metadata": {
  "kernelspec": {
   "display_name": "Python 3",
   "language": "python",
   "name": "python3"
  },
  "language_info": {
   "codemirror_mode": {
    "name": "ipython",
    "version": 3
   },
   "file_extension": ".py",
   "mimetype": "text/x-python",
   "name": "python",
   "nbconvert_exporter": "python",
   "pygments_lexer": "ipython3",
   "version": "3.9.1"
  }
 },
 "nbformat": 4,
 "nbformat_minor": 5
}
